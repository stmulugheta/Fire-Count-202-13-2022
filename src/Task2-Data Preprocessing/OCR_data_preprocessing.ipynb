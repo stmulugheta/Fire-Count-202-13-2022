{
 "cells": [
  {
   "cell_type": "code",
   "execution_count": 3,
   "id": "fc5f212f",
   "metadata": {},
   "outputs": [],
   "source": [
    "# pip install pytesseract\n",
    "# pip install pdf2image\n",
    "# pip install opencv-python\n",
    "# pip install Pillow"
   ]
  },
  {
   "cell_type": "code",
   "execution_count": 1,
   "id": "c4d027d7",
   "metadata": {
    "scrolled": true
   },
   "outputs": [],
   "source": [
    "from pdf2image import pdfinfo_from_path,convert_from_path\n",
    "import matplotlib.pyplot as plt\n",
    "import cv2\n",
    "from PIL import Image"
   ]
  },
  {
   "cell_type": "code",
   "execution_count": null,
   "id": "0e5b9617",
   "metadata": {},
   "outputs": [],
   "source": [
    "#This part of the code helps convert the pdf's into page images\n",
    "\n",
    "pdf_file = \"Boskalis_Sustainability_Report_2020.pdf\"\n",
    "info = pdfinfo_from_path(pdf_file, userpw=None, poppler_path=None)\n",
    "\n",
    "maxPages = info[\"Pages\"]\n",
    "pages = []\n",
    "for page in range(1, maxPages+1, 10) :\n",
    "    pages.append(convert_from_path(pdf_file, dpi=300, first_page=page, last_page = min(page+10-1,maxPages)))\n",
    "    \n",
    "\n",
    "i = 1 \n",
    "for j in range(len(pages)):\n",
    "    for page in pages[j]:\n",
    "        image_name = \"Page_\" + str(i) + \".jpg\"  \n",
    "        page.save(image_name, \"JPEG\")\n",
    "        i = i+1 "
   ]
  },
  {
   "cell_type": "code",
   "execution_count": 2,
   "id": "c762a77e",
   "metadata": {},
   "outputs": [],
   "source": [
    "#working with one of the images\n",
    "\n",
    "image_file = \"./image/Page_5.jpg\"\n",
    "img = cv2.imread(image_file)\n",
    "\n",
    "\n",
    "#Display Images\n",
    "#https://stackoverflow.com/questions/28816046/\n",
    "#displaying-different-images-with-actual-size-in-matplotlib-subplot\n",
    "def display(im_path):\n",
    "    dpi = 80\n",
    "    im_data = plt.imread(im_path)\n",
    "\n",
    "    height, width  = im_data.shape[:2]\n",
    "    \n",
    "    # What size does the figure need to be in inches to fit the image?\n",
    "    figsize = width / float(dpi), height / float(dpi)\n",
    "\n",
    "    # Create a figure of the right size with one axes that takes up the full figure\n",
    "    fig = plt.figure(figsize=figsize)\n",
    "    ax = fig.add_axes([0, 0, 1, 1])\n",
    "\n",
    "    # Hide spines, ticks, etc.\n",
    "    ax.axis('off')\n",
    "\n",
    "    # Display the image.\n",
    "    ax.imshow(im_data, cmap='gray')\n",
    "\n",
    "    plt.show()"
   ]
  },
  {
   "cell_type": "code",
   "execution_count": null,
   "id": "737138a8",
   "metadata": {},
   "outputs": [],
   "source": [
    "display(image_file)"
   ]
  },
  {
   "cell_type": "code",
   "execution_count": 3,
   "id": "86676fbb",
   "metadata": {},
   "outputs": [
    {
     "data": {
      "text/plain": [
       "True"
      ]
     },
     "execution_count": 3,
     "metadata": {},
     "output_type": "execute_result"
    }
   ],
   "source": [
    "inverted_image = cv2.bitwise_not(img)\n",
    "cv2.imwrite(\"temp/inverted.jpg\", inverted_image)"
   ]
  },
  {
   "cell_type": "code",
   "execution_count": null,
   "id": "ebeab536",
   "metadata": {},
   "outputs": [],
   "source": [
    "display('temp/inverted.jpg')"
   ]
  },
  {
   "cell_type": "code",
   "execution_count": 4,
   "id": "2f1b2590",
   "metadata": {},
   "outputs": [],
   "source": [
    "def grayscale(image):\n",
    "    return cv2.cvtColor(image, cv2.COLOR_BGR2GRAY)\n"
   ]
  },
  {
   "cell_type": "code",
   "execution_count": 5,
   "id": "45d0dfac",
   "metadata": {},
   "outputs": [
    {
     "data": {
      "text/plain": [
       "True"
      ]
     },
     "execution_count": 5,
     "metadata": {},
     "output_type": "execute_result"
    }
   ],
   "source": [
    "gray_image = grayscale(img)\n",
    "cv2.imwrite(\"temp/gray.jpg\", gray_image)"
   ]
  },
  {
   "cell_type": "code",
   "execution_count": null,
   "id": "59dfec53",
   "metadata": {},
   "outputs": [],
   "source": [
    "display(\"temp/gray.jpg\")"
   ]
  },
  {
   "cell_type": "code",
   "execution_count": 6,
   "id": "09ed5280",
   "metadata": {},
   "outputs": [
    {
     "data": {
      "text/plain": [
       "True"
      ]
     },
     "execution_count": 6,
     "metadata": {},
     "output_type": "execute_result"
    }
   ],
   "source": [
    "thresh, im_bw = cv2.threshold(gray_image, 220, 230, cv2.THRESH_BINARY)\n",
    "cv2.imwrite(\"temp/bw_image.jpg\", im_bw)"
   ]
  },
  {
   "cell_type": "code",
   "execution_count": null,
   "id": "8a5ac019",
   "metadata": {},
   "outputs": [],
   "source": [
    "display(\"temp/bw_image.jpg\")"
   ]
  },
  {
   "cell_type": "code",
   "execution_count": 7,
   "id": "1d14ce72",
   "metadata": {},
   "outputs": [],
   "source": [
    "def noise_removal(image):\n",
    "    import numpy as np\n",
    "    kernel = np.ones((1, 1), np.uint8)\n",
    "    image = cv2.dilate(image, kernel, iterations=1)\n",
    "    kernel = np.ones((1, 1), np.uint8)\n",
    "    image = cv2.erode(image, kernel, iterations=1)\n",
    "    image = cv2.morphologyEx(image, cv2.MORPH_CLOSE, kernel)\n",
    "    image = cv2.medianBlur(image, 3)\n",
    "    return (image)"
   ]
  },
  {
   "cell_type": "code",
   "execution_count": 8,
   "id": "82eb3cdb",
   "metadata": {},
   "outputs": [
    {
     "data": {
      "text/plain": [
       "True"
      ]
     },
     "execution_count": 8,
     "metadata": {},
     "output_type": "execute_result"
    }
   ],
   "source": [
    "no_noise = noise_removal(im_bw)\n",
    "cv2.imwrite(\"temp/no_noise.jpg\", no_noise)"
   ]
  },
  {
   "cell_type": "code",
   "execution_count": null,
   "id": "b529e08b",
   "metadata": {},
   "outputs": [],
   "source": [
    "display(\"temp/no_noise.jpg\")"
   ]
  },
  {
   "cell_type": "code",
   "execution_count": 9,
   "id": "a4c3c15e",
   "metadata": {},
   "outputs": [],
   "source": [
    "def thin_font(image):\n",
    "    import numpy as np\n",
    "    image = cv2.bitwise_not(image)\n",
    "    kernel = np.ones((2,2),np.uint8)\n",
    "    image = cv2.erode(image, kernel, iterations=1)\n",
    "    image = cv2.bitwise_not(image)\n",
    "    return (image)"
   ]
  },
  {
   "cell_type": "code",
   "execution_count": 10,
   "id": "5002fd78",
   "metadata": {},
   "outputs": [
    {
     "data": {
      "text/plain": [
       "True"
      ]
     },
     "execution_count": 10,
     "metadata": {},
     "output_type": "execute_result"
    }
   ],
   "source": [
    "eroded_image = thin_font(no_noise)\n",
    "cv2.imwrite(\"temp/eroded_image.jpg\", eroded_image)"
   ]
  },
  {
   "cell_type": "code",
   "execution_count": null,
   "id": "d0c6d264",
   "metadata": {},
   "outputs": [],
   "source": [
    "display(\"temp/eroded_image.jpg\")"
   ]
  },
  {
   "cell_type": "code",
   "execution_count": 28,
   "id": "dd8d1939",
   "metadata": {},
   "outputs": [],
   "source": [
    "#The original image without preprocessing\n",
    "\n",
    "ocr_result = pytesseract.image_to_string(img)"
   ]
  },
  {
   "cell_type": "code",
   "execution_count": 29,
   "id": "0155ad23",
   "metadata": {},
   "outputs": [
    {
     "name": "stdout",
     "output_type": "stream",
     "text": [
      "| SUSTAINABILITY REPORT 2020 - BOSKALIS\n",
      "\n",
      " \n",
      "\n",
      "CHAIRMAN’S\n",
      "STATEMENT\n",
      "\n",
      "The year 2020 has been exceptional in many ways.\n",
      "At the beginning of March we presented our new\n",
      "Corporate Business Plan for 2020-2022 and were\n",
      "confident that the upward trend we had signaled\n",
      "would continue. We were also positive about the\n",
      "longer term as we expect Boskalis to make a\n",
      "relevant contribution to solutions for the challenges\n",
      "of the future, in the fields of infrastructure, the\n",
      "energy transition and the protection of coastal\n",
      "regions from the impact of climate change.\n",
      "Sustainability would continue to be a main driver\n",
      "in delivering these solutions.\n",
      "\n",
      "Shortly thereafter, the magnitude of the COVID-19 pandemic\n",
      "became apparent. Lockdown measures were announced across the\n",
      "globe, working from home became the norm, the aviation industry\n",
      "came to a grinding halt and as a consequence, keeping our\n",
      "projects and vessels around the world operational and staffed\n",
      "became an unprecedented challenge.\n",
      "\n",
      "The welfare of our employees was our number-one priority\n",
      "throughout and we immediately introduced measures to safeguard\n",
      "safety as well as to ensure the continuity of the projects of our\n",
      "clients. At the start of the pandemic, the Board of Management and\n",
      "our Emergency Response Team convened daily to set priorities.\n",
      "Together with the Corporate Travel Clinic in the Netherlands, we\n",
      "established our own testing and travel procedure by mid-April,\n",
      "allowing us to provide the much needed relief for the vessels and\n",
      "projects. Some colleagues spent months away from their loved\n",
      "ones, stranded on a vessel waiting for relief crews, others were at\n",
      "home longing to get to a project or vessel; and of course many\n",
      "have been working from home juggling work and personal\n",
      "priorities. | want fo express my great admiration and respect\n",
      "\n",
      "for the dedication shown by everyone at Boskalis during this\n",
      "challenging year.\n",
      "\n",
      "SUSTAINABLE DEVELOPMENT GOALS\n",
      "\n",
      "Despite the challenges of the pandemic, we continued with the\n",
      "execution of our new strategy, launched early 2020, and have\n",
      "made progress in the last twelve months. Through our sustainability\n",
      "strategy we support our business strategy and strengthen our\n",
      "contribution to the Sustainable Development Goals (SDGs). For over\n",
      "100 years we have been providing services that are essential for\n",
      "society and |’m proud to say we continue to do so today. Through\n",
      "our activities, we protect land from the consequences of climate\n",
      "\n",
      " \n",
      "\n",
      "change, create resilience infrastructure for trade, help keep the\n",
      "oceans clean and contribute to the energy transition. The vast\n",
      "majority of our revenue is generated in one of these business\n",
      "areas and contributes to the achievement of the SDGs.\n",
      "\n",
      "PROTECTING AGAINST THE IMPACTS OF CLIMATE\n",
      "CHANGE\n",
      "\n",
      "Climate change sits firmly at the top of the global agenda and we\n",
      "read with disturbing frequency about floods, and other extreme\n",
      "weather conditions linked to climate change, in the media.\n",
      "Protecting against the impact of climate change is an area where\n",
      "our activities can make a substantial contribution to ‘reversing the\n",
      "tide’. In 2020 our work began on the new coastal defense\n",
      "structure in Southsea, UK, that will help reduce the risk of flooding\n",
      "for more than 10,000 homes and 700 businesses. Our delivery of\n",
      "coastal protection works in Romania will help counter steady\n",
      "erosion in the region whilst creating a favorable habitat for local\n",
      "ecosystems. And we continued our long history of dike protection\n",
      "in the Netherlands with reinforcements to the protective Houtrib\n",
      "and Markermeer dikes.\n",
      "\n",
      "However, we face significant hurdles before climate-adaptive\n",
      "solutions like these can be scaled up globally. This year we formed\n",
      "an internal climate adaptation workgroup fo address this\n",
      "challenge as well as to identify and accelerate opportunities that\n",
      "could add commercial value for our business and create\n",
      "sustainable protective measures for the environment and\n",
      "communities living in coastal areas.\n",
      "\n",
      "PROTECTING THE OCEANS\n",
      "\n",
      "Salvage has had one of the busiest and most successful years in its\n",
      "rich history. The most impactful project took place off the coast of\n",
      "Sri Lanka. A VLCC tanker carrying two million barrels of crude oil\n",
      "caught ablaze following an explosion and fire in the engine room.\n",
      "The fire was controlled and a potentially huge environmental\n",
      "disaster was averted. The crude tanker was towed to the United\n",
      "Arab Emirates, where the crude oil cargo was safely transferred to\n",
      "other vessels.\n",
      "\n",
      "ADVANCING THE ENERGY TRANSITION\n",
      "\n",
      "Our energy transition-related projects continued in 2020, including\n",
      "acquiring a spectacular contract for the world’s largest floating\n",
      "wind farm: Kincardine, as well as the contract for the Fecamp wind\n",
      "farm offshore Normandy, France that is expected to provide enough\n",
      "electricity to meet the power needs of 770,000 people. The\n",
      "combination of the heavy transport fleet, our seabed and subsea\n",
      "capabilities, large anchor handling vessels together with our project\n",
      "management and engineering skills, uniquely positions Boskalis for\n",
      "this rapidly growing market.\n",
      "\n",
      "SUSTAINABLE GROWTH\n",
      "\n",
      "In 2020, I’m proud to share that we ended the year with a revenue\n",
      "of EUR 2.5 billion, EBITDA of EUR 404 million and a historically\n",
      "high order book of EUR 5.3 billion. At the same time, we were able\n",
      "to substantially improve our strong financial position boasting a net\n",
      "cash position of EUR 439 million as per year end.\n",
      "\n",
      "While the COVID-19 pandemic stretched our focus, the urgency of\n",
      "delivering our economic value in a sustainable manner has never\n",
      "been higher. We continue our efforts to deliver on our sustainability\n",
      "ambitions, to enhance the positive impacts of our operations and\n",
      "minimize the negative. This is reflected in the update of our\n",
      "sustainability strategy in 2019 and policy commitments in 2020.\n",
      "\n",
      "ROAD TO ZERO\n",
      "\n",
      "In 2020, we made it our ambition to be net climate neutral across\n",
      "our operations by 2050. Delivering on this will be one of our\n",
      "biggest challenges in the years to come, but also an area for\n",
      "significant opportunities. We are actively exploring cleaner fuels,\n",
      "efficiency improvements and carbon offset as approaches to\n",
      "mitigate our emissions. We are also focusing on our low-carbon\n",
      "commercial offering for our clients, incorporating design and\n",
      "operation emissions reductions into our tenders. Our business in the\n",
      "Netherlands is at the forefront of this effort, with 80% of our tenders\n",
      "incorporating a sustainability component. In 2020 we installed\n",
      "more than 5,000 solar panels on the roof of our distribution center\n",
      "in the Netherlands, producing 1.6 million kWh of green electricity\n",
      "per year, or 15% of our domestic needs.\n",
      "\n",
      "BIODIVERSITY FRAMEWORK\n",
      "\n",
      "At Boskalis we value the natural environment. In 2020 we had the\n",
      "honor of establishing collaborations with two international NGOs\n",
      "to help advance our approach on this topic. We entered into a\n",
      "\n",
      "collaboration with Wetlands International, an NGO dedicated to\n",
      "protecting and restoring wetlands around the world. Together we\n",
      "are exploring the potential of wetland habitat creation for carbon\n",
      "sequestration. Another important project we initiated this year was\n",
      "with the International Union for Conservation of Nature. Through\n",
      "this collaboration we are working to develop best practices in\n",
      "biodiversity performance planning and monitoring. Based on this\n",
      "work we have identified biodiversity priorities and clarified our\n",
      "ambition and objectives as set out in our biodiversity framework.\n",
      "This is an increasingly important area for society and therefore for\n",
      "us and our clients. Looking forward we will continue this important\n",
      "work to improve the way we measure our impact on biodiversity\n",
      "impacts and the effectiveness of our nature-based solutions.\n",
      "\n",
      "SOCIAL IMPACT\n",
      "\n",
      "Despite the COVID-19-imposed restrictions limiting the ability to\n",
      "interact with communities, we still managed to deliver a number of\n",
      "community contributions in particular in the areas of safety training\n",
      "and youth education. We also took this time to focus on social\n",
      "impact management process and internal capability, updating our\n",
      "policy, developing training and incorporating new tools into our\n",
      "Way of Working quality management system. This effort places us\n",
      "in an ever stronger position to deliver complex projects in a socially\n",
      "responsible manner.\n",
      "\n",
      "CARE FOR OUR PEOPLE\n",
      "\n",
      "This year we marked the 10th anniversary of NINA, our successful,\n",
      "behavior-based safety program. Our planned celebrations were\n",
      "unfortunately disrupted by the restrictions imposed by the\n",
      "pandemic, but this should in no way detract from the pride we can\n",
      "all share in seeing our Lost Time Injury Frequency fall by no less\n",
      "than 95% in the last 10 years.\n",
      "\n",
      "After a true roller coaster ride over the last 12 months, | am looking\n",
      "forward with confidence. We may not be there yet, but thankfully, it\n",
      "appears as if the end of the pandemic is in sight and as a company\n",
      "we are in great shape. Not only do we have a record high in our\n",
      "order book, a strong financial position, and the best team of\n",
      "professionals in the industry, but we are on course to deliver ever\n",
      "more sustainable solutions to the challenges the world faces today.\n",
      "\n",
      "On behalf of the Board of Management, | would like to thank all of\n",
      "our colleagues for their commitment and dedication over the past\n",
      "year; | have great admiration and respect for the dedication shown\n",
      "during this challenging year. Furthermore, | would like to thank our\n",
      "clients, partners and shareholders for the trust and confidence they\n",
      "place in us.\n",
      "\n",
      "Peter Berdowski\n",
      "\n",
      "| SUSTAINABILITY REPORT 2020 - BOSKALIS\n",
      "\f",
      "\n"
     ]
    }
   ],
   "source": [
    "print (ocr_result)"
   ]
  },
  {
   "cell_type": "code",
   "execution_count": null,
   "id": "bb4e0e08",
   "metadata": {},
   "outputs": [],
   "source": [
    "#The preprocessed image\n",
    "no_noise = \"temp/no_noise.jpg\""
   ]
  },
  {
   "cell_type": "code",
   "execution_count": 32,
   "id": "d5e64b9f",
   "metadata": {},
   "outputs": [],
   "source": [
    "img = Image.open(no_noise)\n",
    "\n",
    "ocr_result = pytesseract.image_to_string(img)"
   ]
  },
  {
   "cell_type": "code",
   "execution_count": 33,
   "id": "323ea4eb",
   "metadata": {},
   "outputs": [
    {
     "name": "stdout",
     "output_type": "stream",
     "text": [
      "| SUSTAINABILITY REPORT 2020 - BOSKALIS\n",
      "\n",
      " \n",
      "\n",
      "CHAIRMAN’S\n",
      "STATEMENT\n",
      "\n",
      "The year 2020 has been exceptional in many ways.\n",
      "At the beginning of March we presented our new\n",
      "Corporate Business Plan for 2020-2022 and were\n",
      "confident that the upward trend we had signaled\n",
      "would continue. We were also positive about the\n",
      "longer term as we expect Boskalis to make a\n",
      "relevant contribution to solutions for the challenges\n",
      "of the future, in the fields of infrastructure, the\n",
      "energy transition and the protection of coastal\n",
      "regions from the impact of climate change.\n",
      "Sustainability would continue to be a main driver\n",
      "in delivering these solutions.\n",
      "\n",
      "Shortly thereafter, the magnitude of the COVID-19 pandemic\n",
      "became apparent. Lockdown measures were announced across the\n",
      "globe, working from home became the norm, the aviation industry\n",
      "came to a grinding halt and as a consequence, keeping our\n",
      "projects and vessels around the world operational and staffed\n",
      "became an unprecedented challenge.\n",
      "\n",
      "The welfare of our employees was our number-one priority\n",
      "throughout and we immediately introduced measures to safeguard\n",
      "safety as well as to ensure the continuity of the projects of our\n",
      "clients. At the start of the pandemic, the Board of Management and\n",
      "our Emergency Response Team convened daily to set priorities.\n",
      "Together with the Corporate Travel Clinic in the Netherlands, we\n",
      "established our own testing and travel procedure by mid-April,\n",
      "allowing us to provide the much needed relief for the vessels and\n",
      "projects. Some colleagues spent months away from their loved\n",
      "ones, stranded on a vessel waiting for relief crews, others were at\n",
      "home longing to get to a project or vessel; and of course many\n",
      "have been working from home juggling work and personal\n",
      "priorities. | want to express my great admiration and respect\n",
      "\n",
      "for the dedication shown by everyone at Boskalis during this\n",
      "challenging year.\n",
      "\n",
      "SUSTAINABLE DEVELOPMENT GOALS\n",
      "\n",
      "Despite the challenges of the pandemic, we continued with the\n",
      "execution of our new strategy, launched early 2020, and have\n",
      "made progress in the last twelve months. Through our sustainability\n",
      "strategy we support our business strategy and strengthen our\n",
      "contribution to the Sustainable Development Goals (SDGs)}. For over\n",
      "100 years we have been providing services that are essential for\n",
      "society and |’m proud to say we continue to do so today. Through\n",
      "our activities, we protect land from the consequences of climate\n",
      "\n",
      " \n",
      "\n",
      "change, create resilience infrastructure for trade, help keep the\n",
      "oceans clean and contribute to the energy transition. The vast\n",
      "majority of our revenue is generated in one of these business\n",
      "areas and contributes to the achievement of the SDGs.\n",
      "\n",
      "PROTECTING AGAINST THE IMPACTS OF CLIMATE\n",
      "CHANGE\n",
      "\n",
      "Climate change sits firmly at the top of the global agenda and we\n",
      "read with disturbing frequency about floods, and other extreme\n",
      "weather conditions linked to climate change, in the media.\n",
      "Protecting against the impact of climate change is an area where\n",
      "our activities can make a substantial contribution to ‘reversing the\n",
      "tide’. In 2020 our work began on the new coastal defense\n",
      "structure in Southsea, UK, that will help reduce the risk of flooding\n",
      "for more than 10,000 homes and 700 businesses. Our delivery of\n",
      "coastal protection works in Romania will help counter steady\n",
      "erosion in the region whilst creating a favorable habitat for local\n",
      "ecosystems. And we continued our long history of dike protection\n",
      "in the Netherlands with reinforcements to the protective Houtrib\n",
      "and Markermeer dikes.\n",
      "\n",
      "However, we face significant hurdles before climate-adaptive\n",
      "solutions like these can be scaled up globally. This year we formed\n",
      "an internal climate adaptation workgroup to address this\n",
      "challenge as well as to identify and accelerate opportunities that\n",
      "could add commercial value for our business and create\n",
      "sustainable protective measures for the environment and\n",
      "communities living in coastal areas.\n",
      "\n",
      "PROTECTING THE OCEANS\n",
      "\n",
      "Salvage has had one of the busiest and most successful years in its\n",
      "rich history. The most impactful project took place off the coast of\n",
      "Sri Lanka. A VLCC tanker carrying two million barrels of crude oil\n",
      "caught ablaze following an explosion and fire in the engine room.\n",
      "The fire was controlled and a potentially huge environmental\n",
      "disaster was averted. The crude tanker was towed to the United\n",
      "Arab Emirates, where the crude oil cargo was safely transferred to\n",
      "other vessels.\n",
      "\n",
      "ADVANCING THE ENERGY TRANSITION\n",
      "\n",
      "Our energy transition-related projects continued in 2020, including\n",
      "acquiring a spectacular contract for the world’s largest floating\n",
      "wind farm: Kincardine, as well as the contract for the Fécamp wind\n",
      "farm offshore Normandy, France that is expected to provide enough\n",
      "electricity to meet the power needs of 770,000 people. The\n",
      "combination of the heavy transport fleet, our seabed and subsea\n",
      "capabilities, large anchor handling vessels together with our project\n",
      "management and engineering skills, uniquely positions Boskalis for\n",
      "this rapidly growing market.\n",
      "\n",
      "SUSTAINABLE GROWTH\n",
      "\n",
      "In 2020, I’m proud to share that we ended the year with a revenue\n",
      "of EUR 2.5 billion, EBITDA of EUR 404 million and a historically\n",
      "high order book of EUR 5.3 billion. At the same time, we were able\n",
      "to substantially improve our strong financial position boasting a net\n",
      "cash position of EUR 439 million as per year end.\n",
      "\n",
      "While the COVID-19 pandemic stretched our focus, the urgency of\n",
      "delivering our economic value in a sustainable manner has never\n",
      "been higher. We continue our efforts to deliver on our sustainability\n",
      "ambitions, to enhance the positive impacts of our operations and\n",
      "minimize the negative. This is reflected in the update of our\n",
      "sustainability strategy in 2019 and policy commitments in 2020.\n",
      "\n",
      "ROAD TO ZERO\n",
      "\n",
      "In 2020, we made it our ambition to be net climate neutral across\n",
      "our operations by 2050. Delivering on this will be one of our\n",
      "biggest challenges in the years to come, but also an area for\n",
      "significant opportunities. We are actively exploring cleaner fuels,\n",
      "efficiency improvements and carbon offset as approaches to\n",
      "mitigate our emissions. We are also focusing on our low-carbon\n",
      "commercial offering for our clients, incorporating design and\n",
      "operation emissions reductions into our tenders. Our business in the\n",
      "Netherlands is at the forefront of this effort, with 80% of our tenders\n",
      "incorporating a sustainability component. In 2020 we installed\n",
      "more than 5,000 solar panels on the roof of our distribution center\n",
      "in the Netherlands, producing 1.6 million kWh of green electricity\n",
      "per year, or 15% of our domestic needs.\n",
      "\n",
      "BIODIVERSITY FRAMEWORK\n",
      "\n",
      "At Boskalis we value the natural environment. In 2020 we had the\n",
      "honor of establishing collaborations with two international NGOs\n",
      "to help advance our approach on this topic. We entered into a\n",
      "\n",
      "collaboration with Wetlands International, an NGO dedicated to\n",
      "protecting and restoring wetlands around the world. Together we\n",
      "are exploring the potential of wetland habitat creation for carbon\n",
      "sequestration. Another important project we initiated this year was\n",
      "with the International Union for Conservation of Nature. Through\n",
      "this collaboration we are working to develop best practices in\n",
      "biodiversity performance planning and monitoring. Based on this\n",
      "work we have identified biodiversity priorities and clarified our\n",
      "ambition and objectives as set out in our biodiversity framework.\n",
      "This is an increasingly important area for society and therefore for\n",
      "us and our clients. Looking forward we will continue this important\n",
      "work to improve the way we measure our impact on biodiversity\n",
      "impacts and the effectiveness of our nature-based solutions.\n",
      "\n",
      "SOCIAL IMPACT\n",
      "\n",
      "Despite the COVID-19-imposed restrictions limiting the ability to\n",
      "interact with communities, we still managed to deliver a number of\n",
      "community contributions in particular in the areas of safety training\n",
      "and youth education. We also took this time to focus on social\n",
      "impact management process and internal capability, updating our\n",
      "policy, developing training and incorporating new tools into our\n",
      "Way of Working quality management system. This effort places us\n",
      "in an ever stronger position fo deliver complex projects in a socially\n",
      "responsible manner.\n",
      "\n",
      "CARE FOR OUR PEOPLE\n",
      "\n",
      "This year we marked the 10th anniversary of NINA, our successful,\n",
      "behavior-based safety program. Our planned celebrations were\n",
      "unfortunately disrupted by the restrictions imposed by the\n",
      "pandemic, but this should in no way detract from the pride we can\n",
      "all share in seeing our Lost Time Injury Frequency fall by no less\n",
      "than 95% in the last 10 years.\n",
      "\n",
      "After a true roller coaster ride over the last 12 months, | am looking\n",
      "forward with confidence. We may not be there yet, but thankfully, it\n",
      "appears as if the end of the pandemic is in sight and as a company\n",
      "we are in great shape. Not only do we have a record high in our\n",
      "order book, a strong financial position, and the best team of\n",
      "professionals in the industry, but we are on course to deliver ever\n",
      "more sustainable solutions to the challenges the world faces today.\n",
      "\n",
      "On behalf of the Board of Management, | would like to thank all of\n",
      "our colleagues for their commitment and dedication over the past\n",
      "year; | have great admiration and respect for the dedication shown\n",
      "during this challenging year. Furthermore, | would like to thank our\n",
      "clients, partners and shareholders for the trust and confidence they\n",
      "place in us.\n",
      "\n",
      "Peter Berdowski\n",
      "\n",
      "| SUSTAINABILITY REPORT 2020 - BOSKALIS\n",
      "\f",
      "\n"
     ]
    }
   ],
   "source": [
    "print(ocr_result)"
   ]
  },
  {
   "cell_type": "code",
   "execution_count": null,
   "id": "91f5f218",
   "metadata": {},
   "outputs": [],
   "source": []
  },
  {
   "cell_type": "code",
   "execution_count": null,
   "id": "b5a5f949",
   "metadata": {},
   "outputs": [],
   "source": []
  },
  {
   "cell_type": "code",
   "execution_count": 3,
   "id": "ab200b5f",
   "metadata": {},
   "outputs": [],
   "source": [
    "def mark_region(image_path):\n",
    "    \n",
    "    im = cv2.imread(image_path)\n",
    "\n",
    "    gray = cv2.cvtColor(im, cv2.COLOR_BGR2GRAY)\n",
    "    blur = cv2.GaussianBlur(gray, (9,9), 0)\n",
    "    thresh = cv2.adaptiveThreshold(blur,255,cv2.ADAPTIVE_THRESH_GAUSSIAN_C, cv2.THRESH_BINARY_INV,11,30)\n",
    "\n",
    "    # Dilate to combine adjacent text contours\n",
    "    kernel = cv2.getStructuringElement(cv2.MORPH_RECT, (9,9))\n",
    "    dilate = cv2.dilate(thresh, kernel, iterations=4)\n",
    "\n",
    "    # Find contours, highlight text areas, and extract ROIs\n",
    "    cnts = cv2.findContours(dilate, cv2.RETR_EXTERNAL, cv2.CHAIN_APPROX_SIMPLE)\n",
    "    cnts = cnts[0] if len(cnts) == 2 else cnts[1]\n",
    "\n",
    "    line_items_coordinates = []\n",
    "    for c in cnts:\n",
    "        area = cv2.contourArea(c)\n",
    "        x,y,w,h = cv2.boundingRect(c)\n",
    "\n",
    "        if y >= 600 and x <= 1000:\n",
    "            if area > 10000:\n",
    "                image = cv2.rectangle(im, (x,y), (2200, y+h), color=(255,0,255), thickness=3)\n",
    "                line_items_coordinates.append([(x,y), (2200, y+h)])\n",
    "\n",
    "        if y >= 2400 and x<= 2000:\n",
    "            image = cv2.rectangle(im, (x,y), (2200, y+h), color=(255,0,255), thickness=3)\n",
    "            line_items_coordinates.append([(x,y), (2200, y+h)])\n",
    "\n",
    "\n",
    "    return image, line_items_coordinates"
   ]
  },
  {
   "cell_type": "code",
   "execution_count": 8,
   "id": "04e892de",
   "metadata": {
    "collapsed": true
   },
   "outputs": [
    {
     "data": {
      "text/plain": [
       "(array([[[255, 255, 255],\n",
       "         [255, 255, 255],\n",
       "         [255, 255, 255],\n",
       "         ...,\n",
       "         [255, 255, 255],\n",
       "         [255, 255, 255],\n",
       "         [255, 255, 255]],\n",
       " \n",
       "        [[255, 255, 255],\n",
       "         [255, 255, 255],\n",
       "         [255, 255, 255],\n",
       "         ...,\n",
       "         [255, 255, 255],\n",
       "         [255, 255, 255],\n",
       "         [255, 255, 255]],\n",
       " \n",
       "        [[255, 255, 255],\n",
       "         [255, 255, 255],\n",
       "         [255, 255, 255],\n",
       "         ...,\n",
       "         [255, 255, 255],\n",
       "         [255, 255, 255],\n",
       "         [255, 255, 255]],\n",
       " \n",
       "        ...,\n",
       " \n",
       "        [[255, 255, 255],\n",
       "         [255, 255, 255],\n",
       "         [255, 255, 255],\n",
       "         ...,\n",
       "         [255, 255, 255],\n",
       "         [255, 255, 255],\n",
       "         [255, 255, 255]],\n",
       " \n",
       "        [[255, 255, 255],\n",
       "         [255, 255, 255],\n",
       "         [255, 255, 255],\n",
       "         ...,\n",
       "         [255, 255, 255],\n",
       "         [255, 255, 255],\n",
       "         [255, 255, 255]],\n",
       " \n",
       "        [[255, 255, 255],\n",
       "         [255, 255, 255],\n",
       "         [255, 255, 255],\n",
       "         ...,\n",
       "         [255, 255, 255],\n",
       "         [255, 255, 255],\n",
       "         [255, 255, 255]]], dtype=uint8),\n",
       " [[(1487, 3094), (2200, 3128)],\n",
       "  [(696, 2788), (2200, 2822)],\n",
       "  [(510, 2774), (2200, 2811)],\n",
       "  [(436, 2762), (2200, 2796)],\n",
       "  [(572, 2738), (2200, 2771)],\n",
       "  [(520, 2736), (2200, 2772)],\n",
       "  [(468, 2635), (2200, 2669)],\n",
       "  [(1823, 2405), (2200, 2456)],\n",
       "  [(236, 1138), (2200, 1457)]])"
      ]
     },
     "execution_count": 8,
     "metadata": {},
     "output_type": "execute_result"
    }
   ],
   "source": [
    "mark_region('./image/Page_1.jpg')"
   ]
  },
  {
   "cell_type": "code",
   "execution_count": 9,
   "id": "ccbabe57",
   "metadata": {},
   "outputs": [
    {
     "data": {
      "text/plain": [
       "<matplotlib.image.AxesImage at 0x1ea000f6908>"
      ]
     },
     "execution_count": 9,
     "metadata": {},
     "output_type": "execute_result"
    },
    {
     "data": {
      "image/png": "[encoded data removed]",
      "text/plain": [
       "<Figure size 432x288 with 1 Axes>"
      ]
     },
     "metadata": {
      "needs_background": "light"
     },
     "output_type": "display_data"
    }
   ],
   "source": [
    "\n",
    "b, line_items_coordinates = mark_region('./image/Page_5.jpg')\n",
    "\n",
    "plt.imshow(b)"
   ]
  },
  {
   "cell_type": "code",
   "execution_count": 10,
   "id": "c3ec25e1",
   "metadata": {},
   "outputs": [
    {
     "name": "stdout",
     "output_type": "stream",
     "text": [
      "2020 or www.boskalis.com.\n",
      "ee po\n",
      "\f",
      "\n"
     ]
    },
    {
     "data": {
      "image/png": "[encoded data removed]",
      "text/plain": [
       "<Figure size 720x720 with 1 Axes>"
      ]
     },
     "metadata": {
      "needs_background": "light"
     },
     "output_type": "display_data"
    }
   ],
   "source": [
    "import pytesseract\n",
    "pytesseract.tesseract_cmd = r'C:\\Program Files (x86)\\Tesseract-OCR\\tesseract'\n",
    "\n",
    "# load the original image\n",
    "image = cv2.imread('./image/Page_7.jpg')\n",
    "\n",
    "# get co-ordinates to crop the image\n",
    "c = line_items_coordinates[1]\n",
    "\n",
    "# cropping image img = image[y0:y1, x0:x1]\n",
    "img = image[c[0][1]:c[1][1], c[0][0]:c[1][0]]    \n",
    "\n",
    "plt.figure(figsize=(10,10))\n",
    "plt.imshow(img)\n",
    "\n",
    "# convert the image to black and white for better OCR\n",
    "ret,thresh1 = cv2.threshold(img,120,255,cv2.THRESH_BINARY)\n",
    "\n",
    "# pytesseract image to string to get results\n",
    "text = str(pytesseract.image_to_string(thresh1, config='--psm 6'))\n",
    "print(text)"
   ]
  },
  {
   "cell_type": "code",
   "execution_count": null,
   "id": "2e548d56",
   "metadata": {},
   "outputs": [],
   "source": []
  }
 ],
 "metadata": {
  "kernelspec": {
   "display_name": "Python 3",
   "language": "python",
   "name": "python3"
  },
  "language_info": {
   "codemirror_mode": {
    "name": "ipython",
    "version": 3
   },
   "file_extension": ".py",
   "mimetype": "text/x-python",
   "name": "python",
   "nbconvert_exporter": "python",
   "pygments_lexer": "ipython3",
   "version": "3.7.9"
  }
 },
 "nbformat": 4,
 "nbformat_minor": 5
}
