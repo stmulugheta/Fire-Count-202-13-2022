{
  "nbformat": 4,
  "nbformat_minor": 0,
  "metadata": {
    "colab": {
      "name": "ESG_BERT_TOPIC_ KPI.ipynb",
      "provenance": [],
      "collapsed_sections": [],
      "toc_visible": true
    },
    "kernelspec": {
      "name": "python3",
      "display_name": "Python 3"
    },
    "language_info": {
      "name": "python"
    },
    "accelerator": "GPU",
    "gpuClass": "standard"
  },
  "cells": [
    {
      "cell_type": "markdown",
      "source": [
        "# **EXTRACTING ESG KPI FROM SENTENCES**\n"
      ],
      "metadata": {
        "id": "AyKaXKNXnIWO"
      }
    },
    {
      "cell_type": "code",
      "source": [
        "# Load Libraries\n",
        "import pandas as pd"
      ],
      "metadata": {
        "id": "piM8cl_0zqYy"
      },
      "execution_count": 5,
      "outputs": []
    },
    {
      "cell_type": "markdown",
      "source": [
        "## Load Data\n",
        "\n",
        "- Extracted , cleaned Sentences : \n",
        "- Extracted uncleaned sentences"
      ],
      "metadata": {
        "id": "ePh3HubZIU86"
      }
    },
    {
      "cell_type": "code",
      "source": [
        "clean_sentences_df = pd.read_excel(\"/content/drive/MyDrive/Colab Notebooks/ESG_KPI_Omdena/Data/Clean sentences.xlsx\")"
      ],
      "metadata": {
        "id": "0MLVOoMb_bDE"
      },
      "execution_count": null,
      "outputs": []
    },
    {
      "cell_type": "markdown",
      "source": [
        "## Extract KeyPhrases From Sentences\n",
        "\n"
      ],
      "metadata": {
        "id": "AD2eD_KzJFCp"
      }
    },
    {
      "cell_type": "code",
      "source": [
        "#install Keybert for keyphrase/keyword extraction \n",
        "!pip install keybert\n",
        "#using sentence transformer model in keybert\n",
        "!pip install -U sentence-transformers"
      ],
      "metadata": {
        "id": "NMfgWFj0GH2D"
      },
      "execution_count": null,
      "outputs": []
    },
    {
      "cell_type": "code",
      "source": [
        "from keybert import KeyBERT\n",
        "from sentence_transformers import SentenceTransformer"
      ],
      "metadata": {
        "id": "rNfYKMj1Lqx0"
      },
      "execution_count": null,
      "outputs": []
    },
    {
      "cell_type": "code",
      "source": [
        "\n",
        "class KeyPhraseExtraction:\n",
        "  ''' Custom Class for KeyPhrase extraction '''\n",
        "  def __init__(self,model_name = 'nbroad/ESG-BERT', initialize_sent_transformer = True):\n",
        "    if initialize_sent_transformer:\n",
        "      sent_trans_model = SentenceTransformer('nbroad/ESG-BERT')\n",
        "      self.model = KeyBERT(model = sent_trans_model)\n",
        "    else:\n",
        "      self.model = KeyBERT(model = model_name)\n",
        "\n",
        "  def extract_keyphrases_mmr(self,sent,keyphrase_ngram_range=(2,5),diversity = 0.7, top_n=5, stop_words='english'):\n",
        "    return self.model.extract_keywords(sent,use_mmr=True,keyphrase_ngram_range=keyphrase_ngram_range, diversity=diversity, top_n=top_n, stop_words=stop_words)\n",
        "  \n",
        "  def extract_keyphrases_maxsum(self,sent,keyphrase_ngram_range=(2,5),nr_candidates = 15, top_n=5, stop_words='english'):\n",
        "    return self.model.extract_keywords(sent,use_maxsum=True, keyphrase_ngram_range=keyphrase_ngram_range, nr_candidates=nr_candidates, top_n=top_n, stop_words=stop_words)\n",
        "  "
      ],
      "metadata": {
        "id": "FyTU1HhmJknX"
      },
      "execution_count": 164,
      "outputs": []
    },
    {
      "cell_type": "code",
      "source": [
        "#Extract Key Phrases\n",
        "clean_sentences_df['Key_Phrases'] = clean_sentences_df['Sentences'].apply(lambda sent: [kpe[0] for kpe in kpe_instance.extract_keyphrases_mmr(sent=sent)])"
      ],
      "metadata": {
        "id": "f0p2SR3Qw9Dj"
      },
      "execution_count": 165,
      "outputs": []
    },
    {
      "cell_type": "code",
      "source": [
        "clean_sentences_df.to_pickle('clean_sentences_KPE.pkl')"
      ],
      "metadata": {
        "id": "cZoGeuALTeDK"
      },
      "execution_count": 166,
      "outputs": []
    },
    {
      "cell_type": "code",
      "source": [
        "clean_sentences_df"
      ],
      "metadata": {
        "colab": {
          "base_uri": "https://localhost:8080/",
          "height": 424
        },
        "id": "I2-xYgvKVBU4",
        "outputId": "9f3706f2-d437-4a95-99ce-607eb0b498e0"
      },
      "execution_count": 6,
      "outputs": [
        {
          "output_type": "execute_result",
          "data": {
            "text/plain": [
              "                                             Sentences  \\\n",
              "0    62.2% use of electricity from renewable_source...   \n",
              "1    at present, the energy expenditure has been re...   \n",
              "2    170 business leaders call on eu decision-maker...   \n",
              "3    taking the tolerance values of the measuring s...   \n",
              "4    with the help of energy management, the divisi...   \n",
              "..                                                 ...   \n",
              "121  a forest plantation managed by new forests in ...   \n",
              "122  waste_reduction, recycling business initiative...   \n",
              "123  waste_reduction: 71,670 tons/year sugar cane r...   \n",
              "124  the amount of fossil-based electricity has bee...   \n",
              "125  since 2015, use has been reduced by 26 percent...   \n",
              "\n",
              "                                           Key_Phrases  \n",
              "0    [electricity renewable_sources achieved total ...  \n",
              "1    [present energy expenditure reduced 15, expend...  \n",
              "2    [support greenhouse gas ghg emissions, reducti...  \n",
              "3    [reference estimated managed reduce emission, ...  \n",
              "4    [reduce energy consumption 1000 mwh, compared ...  \n",
              "..                                                 ...  \n",
              "121  [carbon dioxide annually estimated carbon, pla...  \n",
              "122  [waste_reduction recycling business initiative...  \n",
              "123  [biomass power generation, waste_reduction 71 ...  \n",
              "124  [fossil based electricity reduced 91, percent ...  \n",
              "125  [biofuels th ghg_emissions nccs operations, op...  \n",
              "\n",
              "[126 rows x 2 columns]"
            ],
            "text/html": [
              "\n",
              "  <div id=\"df-2bfd9b02-25fb-421a-9cfa-480cf69862cb\">\n",
              "    <div class=\"colab-df-container\">\n",
              "      <div>\n",
              "<style scoped>\n",
              "    .dataframe tbody tr th:only-of-type {\n",
              "        vertical-align: middle;\n",
              "    }\n",
              "\n",
              "    .dataframe tbody tr th {\n",
              "        vertical-align: top;\n",
              "    }\n",
              "\n",
              "    .dataframe thead th {\n",
              "        text-align: right;\n",
              "    }\n",
              "</style>\n",
              "<table border=\"1\" class=\"dataframe\">\n",
              "  <thead>\n",
              "    <tr style=\"text-align: right;\">\n",
              "      <th></th>\n",
              "      <th>Sentences</th>\n",
              "      <th>Key_Phrases</th>\n",
              "    </tr>\n",
              "  </thead>\n",
              "  <tbody>\n",
              "    <tr>\n",
              "      <th>0</th>\n",
              "      <td>62.2% use of electricity from renewable_source...</td>\n",
              "      <td>[electricity renewable_sources achieved total ...</td>\n",
              "    </tr>\n",
              "    <tr>\n",
              "      <th>1</th>\n",
              "      <td>at present, the energy expenditure has been re...</td>\n",
              "      <td>[present energy expenditure reduced 15, expend...</td>\n",
              "    </tr>\n",
              "    <tr>\n",
              "      <th>2</th>\n",
              "      <td>170 business leaders call on eu decision-maker...</td>\n",
              "      <td>[support greenhouse gas ghg emissions, reducti...</td>\n",
              "    </tr>\n",
              "    <tr>\n",
              "      <th>3</th>\n",
              "      <td>taking the tolerance values of the measuring s...</td>\n",
              "      <td>[reference estimated managed reduce emission, ...</td>\n",
              "    </tr>\n",
              "    <tr>\n",
              "      <th>4</th>\n",
              "      <td>with the help of energy management, the divisi...</td>\n",
              "      <td>[reduce energy consumption 1000 mwh, compared ...</td>\n",
              "    </tr>\n",
              "    <tr>\n",
              "      <th>...</th>\n",
              "      <td>...</td>\n",
              "      <td>...</td>\n",
              "    </tr>\n",
              "    <tr>\n",
              "      <th>121</th>\n",
              "      <td>a forest plantation managed by new forests in ...</td>\n",
              "      <td>[carbon dioxide annually estimated carbon, pla...</td>\n",
              "    </tr>\n",
              "    <tr>\n",
              "      <th>122</th>\n",
              "      <td>waste_reduction, recycling business initiative...</td>\n",
              "      <td>[waste_reduction recycling business initiative...</td>\n",
              "    </tr>\n",
              "    <tr>\n",
              "      <th>123</th>\n",
              "      <td>waste_reduction: 71,670 tons/year sugar cane r...</td>\n",
              "      <td>[biomass power generation, waste_reduction 71 ...</td>\n",
              "    </tr>\n",
              "    <tr>\n",
              "      <th>124</th>\n",
              "      <td>the amount of fossil-based electricity has bee...</td>\n",
              "      <td>[fossil based electricity reduced 91, percent ...</td>\n",
              "    </tr>\n",
              "    <tr>\n",
              "      <th>125</th>\n",
              "      <td>since 2015, use has been reduced by 26 percent...</td>\n",
              "      <td>[biofuels th ghg_emissions nccs operations, op...</td>\n",
              "    </tr>\n",
              "  </tbody>\n",
              "</table>\n",
              "<p>126 rows × 2 columns</p>\n",
              "</div>\n",
              "      <button class=\"colab-df-convert\" onclick=\"convertToInteractive('df-2bfd9b02-25fb-421a-9cfa-480cf69862cb')\"\n",
              "              title=\"Convert this dataframe to an interactive table.\"\n",
              "              style=\"display:none;\">\n",
              "        \n",
              "  <svg xmlns=\"http://www.w3.org/2000/svg\" height=\"24px\"viewBox=\"0 0 24 24\"\n",
              "       width=\"24px\">\n",
              "    <path d=\"M0 0h24v24H0V0z\" fill=\"none\"/>\n",
              "    <path d=\"M18.56 5.44l.94 2.06.94-2.06 2.06-.94-2.06-.94-.94-2.06-.94 2.06-2.06.94zm-11 1L8.5 8.5l.94-2.06 2.06-.94-2.06-.94L8.5 2.5l-.94 2.06-2.06.94zm10 10l.94 2.06.94-2.06 2.06-.94-2.06-.94-.94-2.06-.94 2.06-2.06.94z\"/><path d=\"M17.41 7.96l-1.37-1.37c-.4-.4-.92-.59-1.43-.59-.52 0-1.04.2-1.43.59L10.3 9.45l-7.72 7.72c-.78.78-.78 2.05 0 2.83L4 21.41c.39.39.9.59 1.41.59.51 0 1.02-.2 1.41-.59l7.78-7.78 2.81-2.81c.8-.78.8-2.07 0-2.86zM5.41 20L4 18.59l7.72-7.72 1.47 1.35L5.41 20z\"/>\n",
              "  </svg>\n",
              "      </button>\n",
              "      \n",
              "  <style>\n",
              "    .colab-df-container {\n",
              "      display:flex;\n",
              "      flex-wrap:wrap;\n",
              "      gap: 12px;\n",
              "    }\n",
              "\n",
              "    .colab-df-convert {\n",
              "      background-color: #E8F0FE;\n",
              "      border: none;\n",
              "      border-radius: 50%;\n",
              "      cursor: pointer;\n",
              "      display: none;\n",
              "      fill: #1967D2;\n",
              "      height: 32px;\n",
              "      padding: 0 0 0 0;\n",
              "      width: 32px;\n",
              "    }\n",
              "\n",
              "    .colab-df-convert:hover {\n",
              "      background-color: #E2EBFA;\n",
              "      box-shadow: 0px 1px 2px rgba(60, 64, 67, 0.3), 0px 1px 3px 1px rgba(60, 64, 67, 0.15);\n",
              "      fill: #174EA6;\n",
              "    }\n",
              "\n",
              "    [theme=dark] .colab-df-convert {\n",
              "      background-color: #3B4455;\n",
              "      fill: #D2E3FC;\n",
              "    }\n",
              "\n",
              "    [theme=dark] .colab-df-convert:hover {\n",
              "      background-color: #434B5C;\n",
              "      box-shadow: 0px 1px 3px 1px rgba(0, 0, 0, 0.15);\n",
              "      filter: drop-shadow(0px 1px 2px rgba(0, 0, 0, 0.3));\n",
              "      fill: #FFFFFF;\n",
              "    }\n",
              "  </style>\n",
              "\n",
              "      <script>\n",
              "        const buttonEl =\n",
              "          document.querySelector('#df-2bfd9b02-25fb-421a-9cfa-480cf69862cb button.colab-df-convert');\n",
              "        buttonEl.style.display =\n",
              "          google.colab.kernel.accessAllowed ? 'block' : 'none';\n",
              "\n",
              "        async function convertToInteractive(key) {\n",
              "          const element = document.querySelector('#df-2bfd9b02-25fb-421a-9cfa-480cf69862cb');\n",
              "          const dataTable =\n",
              "            await google.colab.kernel.invokeFunction('convertToInteractive',\n",
              "                                                     [key], {});\n",
              "          if (!dataTable) return;\n",
              "\n",
              "          const docLinkHtml = 'Like what you see? Visit the ' +\n",
              "            '<a target=\"_blank\" href=https://colab.research.google.com/notebooks/data_table.ipynb>data table notebook</a>'\n",
              "            + ' to learn more about interactive tables.';\n",
              "          element.innerHTML = '';\n",
              "          dataTable['output_type'] = 'display_data';\n",
              "          await google.colab.output.renderOutput(dataTable, element);\n",
              "          const docLink = document.createElement('div');\n",
              "          docLink.innerHTML = docLinkHtml;\n",
              "          element.appendChild(docLink);\n",
              "        }\n",
              "      </script>\n",
              "    </div>\n",
              "  </div>\n",
              "  "
            ]
          },
          "metadata": {},
          "execution_count": 6
        }
      ]
    },
    {
      "cell_type": "code",
      "source": [
        "#clean_sentences_df = pd.read_pickle('/content/clean_sentences_KPE (1).pkl')"
      ],
      "metadata": {
        "id": "BETE_X_mVzdc"
      },
      "execution_count": 6,
      "outputs": []
    },
    {
      "cell_type": "markdown",
      "source": [
        "## KPI Mapping Using ESG_BERT Embedding Similarity"
      ],
      "metadata": {
        "id": "WVAUbkMqTFqh"
      }
    },
    {
      "cell_type": "code",
      "source": [
        "!pip install simpletransformers"
      ],
      "metadata": {
        "id": "lxAOcJiATaiU"
      },
      "execution_count": null,
      "outputs": []
    },
    {
      "cell_type": "code",
      "source": [
        "import numpy as np\n",
        "from sklearn.metrics.pairwise import cosine_similarity\n",
        "from simpletransformers.language_representation import RepresentationModel\n"
      ],
      "metadata": {
        "id": "U80NZZ7FS9TP"
      },
      "execution_count": 9,
      "outputs": []
    },
    {
      "cell_type": "code",
      "source": [
        "class BertSim:\n",
        "    \n",
        "    def __init__(self, model_type = \"bert\", model_name = \"nbroad/ESG-BERT\"):\n",
        "        self.model = RepresentationModel(\n",
        "                        model_type = model_type,\n",
        "                        model_name = model_name,\n",
        "                        use_cuda = True\n",
        "                    )\n",
        "    \n",
        "    def get_model(self):\n",
        "        return self.model\n",
        "\n",
        "    def get_sentence_embeddings(self, sentences):\n",
        "        return self.model.encode_sentences(sentences, combine_strategy = \"mean\")\n",
        "\n",
        "    def get_similarity_matrix(self, sentences_1, sentences_2):\n",
        "        return cosine_similarity(\n",
        "            self.get_sentence_embeddings(sentences_1),\n",
        "            self.get_sentence_embeddings(sentences_2)\n",
        "        )"
      ],
      "metadata": {
        "id": "pReL95tlRH4d"
      },
      "execution_count": 10,
      "outputs": []
    },
    {
      "cell_type": "code",
      "source": [
        "def get_sentences_kpi(model_class, sentence,kpi_df):\n",
        "    sim_matrix = model_class.get_similarity_matrix([sentence], kpi_df[\"combined_kpi\"])\n",
        "    sim_index = sim_matrix.argmax()\n",
        "    sim_score = sim_matrix.max()\n",
        "    kpi = kpi_df[\"KPI\"].iloc[sim_index]\n",
        "    category = kpi_df['ESG category'].iloc[sim_index]\n",
        "    return kpi, sim_score, category"
      ],
      "metadata": {
        "id": "ag1ukhSUZWhT"
      },
      "execution_count": 177,
      "outputs": []
    },
    {
      "cell_type": "code",
      "source": [
        "#Generate KPI , Similarity Scores , ESG Category Mappings\n",
        "key_phrase_list = clean_sentences_df['Key_Phrases']\n",
        "\n",
        "kpi_df = pd.DataFrame(columns=['ESG_Category','Mapped_KPI','Similarity_Score'])\n",
        "for ind, key_phrases in enumerate(key_phrase_list):\n",
        "  kpi_list = []\n",
        "  category_list = []\n",
        "  score_list = []\n",
        "  for key_phrase in key_phrases:\n",
        "    kpi, sim_score, category = get_sentences_kpi(model_class, key_phrase)\n",
        "    kpi_list.append(kpi)\n",
        "    score_list.append(sim_score)\n",
        "    category_list.append(category)\n",
        "  # print(kpi_list)\n",
        "  # print(score_list)\n",
        "  #kpi_df = kpi_df.astype('object')\n",
        "  kpi_df.at[ind, 'ESG_Category'] = category_list\n",
        "  kpi_df.at[ind, 'Mapped_KPI'] = kpi_list\n",
        "  kpi_df.at[ind, 'Similarity_Score'] = score_list"
      ],
      "metadata": {
        "id": "Dq1NlhizoJGK"
      },
      "execution_count": null,
      "outputs": []
    },
    {
      "cell_type": "code",
      "source": [
        "# Combining KPI if only one distinct KPI present in a row\n",
        "kpi_df['Combined_KPI'] = kpi_df['Mapped_KPI'].apply(lambda kpis: list(set(kpis)) if len(set(kpis))==1 else kpis)\n",
        "kpi_df['Combined_Category'] = kpi_df['ESG_Category'].apply(lambda cats: list(set(cats)) if len(set(cats))==1 else cats)"
      ],
      "metadata": {
        "id": "JbzeIzuRwQZi"
      },
      "execution_count": 141,
      "outputs": []
    },
    {
      "cell_type": "code",
      "source": [
        "clean_sent_kpi = pd.concat([clean_sentences_df,kpi_df],axis=1)\n",
        "clean_sent_kpi.to_excel('CLEAN_SENT_GENERIC_KPI_MAPPING.xlsx')"
      ],
      "metadata": {
        "id": "qbMvcs5Cxp6Y"
      },
      "execution_count": 143,
      "outputs": []
    },
    {
      "cell_type": "code",
      "source": [
        "clean_sent_kpi"
      ],
      "metadata": {
        "colab": {
          "base_uri": "https://localhost:8080/",
          "height": 1000
        },
        "id": "An5KW-0v0ESF",
        "outputId": "c1c3d609-ef97-4bbe-e9cc-ebeedd54bf8b"
      },
      "execution_count": 148,
      "outputs": [
        {
          "output_type": "execute_result",
          "data": {
            "text/plain": [
              "                                             Sentences  \\\n",
              "0    62.2% use of electricity from renewable_source...   \n",
              "1    at present, the energy expenditure has been re...   \n",
              "2    170 business leaders call on eu decision-maker...   \n",
              "3    taking the tolerance values of the measuring s...   \n",
              "4    with the help of energy management, the divisi...   \n",
              "..                                                 ...   \n",
              "121  a forest plantation managed by new forests in ...   \n",
              "122  waste_reduction, recycling business initiative...   \n",
              "123  waste_reduction: 71,670 tons/year sugar cane r...   \n",
              "124  the amount of fossil-based electricity has bee...   \n",
              "125  since 2015, use has been reduced by 26 percent...   \n",
              "\n",
              "                                           Key_Phrases  \\\n",
              "0    [electricity renewable_sources achieved total ...   \n",
              "1    [present energy expenditure reduced 15, expend...   \n",
              "2    [support greenhouse gas ghg emissions, reducti...   \n",
              "3    [reference estimated managed reduce emission, ...   \n",
              "4    [reduce energy consumption 1000 mwh, compared ...   \n",
              "..                                                 ...   \n",
              "121  [carbon dioxide annually estimated carbon, pla...   \n",
              "122  [waste_reduction recycling business initiative...   \n",
              "123  [biomass power generation, waste_reduction 71 ...   \n",
              "124  [fossil based electricity reduced 91, percent ...   \n",
              "125  [biofuels th ghg_emissions nccs operations, op...   \n",
              "\n",
              "                                          ESG_Category  \\\n",
              "0    [Environmental, Environmental, Environmental, ...   \n",
              "1    [Environmental, Economic, Environmental, Envir...   \n",
              "2    [Environmental, Governance, Environmental, Env...   \n",
              "3    [Environmental, Environmental, Economic, Envir...   \n",
              "4    [Environmental, Economic, Environmental, Envir...   \n",
              "..                                                 ...   \n",
              "121  [Environmental, Environmental, Environmental, ...   \n",
              "122  [Environmental, Environmental, Environmental, ...   \n",
              "123  [Environmental, Environmental, Environmental, ...   \n",
              "124  [Environmental, Economic, Environmental, Envir...   \n",
              "125  [Environmental, Economic, Economic, Environmen...   \n",
              "\n",
              "                                            Mapped_KPI  \\\n",
              "0    [energy consumption, energy consumption, energ...   \n",
              "1    [energy consumption, Corporate income tax, ene...   \n",
              "2    [GHG emissions, net revenues, GHG emissions, G...   \n",
              "3    [GHG emissions, GHG emissions, Corporate incom...   \n",
              "4    [energy consumption, community investments, en...   \n",
              "..                                                 ...   \n",
              "121  [GHG emissions, restored habitat areas, recycl...   \n",
              "122  [recycled materials, non-renewable materials, ...   \n",
              "123  [energy consumption, organic pollutants, recyc...   \n",
              "124  [energy consumption, third-party sales, energy...   \n",
              "125  [GHG emissions, operation costs, Corporate inc...   \n",
              "\n",
              "                                      Similarity_Score  \\\n",
              "0    [0.91401374, 0.90717655, 0.836861, 0.97449636,...   \n",
              "1    [0.8970034, 0.51539993, 0.8052012, 0.8965416, ...   \n",
              "2    [0.69169486, 0.4378304, 0.77837104, 0.6697927,...   \n",
              "3    [0.6032284, 0.6493584, 0.53069377, 0.63353264,...   \n",
              "4    [0.9421796, 0.5854432, 0.72099483, 0.7198863, ...   \n",
              "..                                                 ...   \n",
              "121  [0.6681555, 0.6665286, 0.43836945, 0.56134325,...   \n",
              "122  [0.61960626, 0.7124392, 0.6900979, 0.70979166,...   \n",
              "123  [0.7994809, 0.47750506, 0.42381394, 0.46169093...   \n",
              "124  [0.78861237, 0.47423828, 0.7629609, 0.76556104...   \n",
              "125  [0.8240893, 0.4197875, 0.3660173, 0.78465533, ...   \n",
              "\n",
              "                                          Combined_KPI  \\\n",
              "0                                 [energy consumption]   \n",
              "1    [energy consumption, Corporate income tax, ene...   \n",
              "2    [GHG emissions, net revenues, GHG emissions, G...   \n",
              "3    [GHG emissions, GHG emissions, Corporate incom...   \n",
              "4    [energy consumption, community investments, en...   \n",
              "..                                                 ...   \n",
              "121  [GHG emissions, restored habitat areas, recycl...   \n",
              "122  [recycled materials, non-renewable materials, ...   \n",
              "123  [energy consumption, organic pollutants, recyc...   \n",
              "124  [energy consumption, third-party sales, energy...   \n",
              "125  [GHG emissions, operation costs, Corporate inc...   \n",
              "\n",
              "                                     Combined_Category  \n",
              "0                                      [Environmental]  \n",
              "1    [Environmental, Economic, Environmental, Envir...  \n",
              "2    [Environmental, Governance, Environmental, Env...  \n",
              "3    [Environmental, Environmental, Economic, Envir...  \n",
              "4    [Environmental, Economic, Environmental, Envir...  \n",
              "..                                                 ...  \n",
              "121                                    [Environmental]  \n",
              "122  [Environmental, Environmental, Environmental, ...  \n",
              "123  [Environmental, Environmental, Environmental, ...  \n",
              "124  [Environmental, Economic, Environmental, Envir...  \n",
              "125  [Environmental, Economic, Economic, Environmen...  \n",
              "\n",
              "[126 rows x 7 columns]"
            ],
            "text/html": [
              "\n",
              "  <div id=\"df-1a78877d-e15e-4d5f-b5be-f8f3fbd161d2\">\n",
              "    <div class=\"colab-df-container\">\n",
              "      <div>\n",
              "<style scoped>\n",
              "    .dataframe tbody tr th:only-of-type {\n",
              "        vertical-align: middle;\n",
              "    }\n",
              "\n",
              "    .dataframe tbody tr th {\n",
              "        vertical-align: top;\n",
              "    }\n",
              "\n",
              "    .dataframe thead th {\n",
              "        text-align: right;\n",
              "    }\n",
              "</style>\n",
              "<table border=\"1\" class=\"dataframe\">\n",
              "  <thead>\n",
              "    <tr style=\"text-align: right;\">\n",
              "      <th></th>\n",
              "      <th>Sentences</th>\n",
              "      <th>Key_Phrases</th>\n",
              "      <th>ESG_Category</th>\n",
              "      <th>Mapped_KPI</th>\n",
              "      <th>Similarity_Score</th>\n",
              "      <th>Combined_KPI</th>\n",
              "      <th>Combined_Category</th>\n",
              "    </tr>\n",
              "  </thead>\n",
              "  <tbody>\n",
              "    <tr>\n",
              "      <th>0</th>\n",
              "      <td>62.2% use of electricity from renewable_source...</td>\n",
              "      <td>[electricity renewable_sources achieved total ...</td>\n",
              "      <td>[Environmental, Environmental, Environmental, ...</td>\n",
              "      <td>[energy consumption, energy consumption, energ...</td>\n",
              "      <td>[0.91401374, 0.90717655, 0.836861, 0.97449636,...</td>\n",
              "      <td>[energy consumption]</td>\n",
              "      <td>[Environmental]</td>\n",
              "    </tr>\n",
              "    <tr>\n",
              "      <th>1</th>\n",
              "      <td>at present, the energy expenditure has been re...</td>\n",
              "      <td>[present energy expenditure reduced 15, expend...</td>\n",
              "      <td>[Environmental, Economic, Environmental, Envir...</td>\n",
              "      <td>[energy consumption, Corporate income tax, ene...</td>\n",
              "      <td>[0.8970034, 0.51539993, 0.8052012, 0.8965416, ...</td>\n",
              "      <td>[energy consumption, Corporate income tax, ene...</td>\n",
              "      <td>[Environmental, Economic, Environmental, Envir...</td>\n",
              "    </tr>\n",
              "    <tr>\n",
              "      <th>2</th>\n",
              "      <td>170 business leaders call on eu decision-maker...</td>\n",
              "      <td>[support greenhouse gas ghg emissions, reducti...</td>\n",
              "      <td>[Environmental, Governance, Environmental, Env...</td>\n",
              "      <td>[GHG emissions, net revenues, GHG emissions, G...</td>\n",
              "      <td>[0.69169486, 0.4378304, 0.77837104, 0.6697927,...</td>\n",
              "      <td>[GHG emissions, net revenues, GHG emissions, G...</td>\n",
              "      <td>[Environmental, Governance, Environmental, Env...</td>\n",
              "    </tr>\n",
              "    <tr>\n",
              "      <th>3</th>\n",
              "      <td>taking the tolerance values of the measuring s...</td>\n",
              "      <td>[reference estimated managed reduce emission, ...</td>\n",
              "      <td>[Environmental, Environmental, Economic, Envir...</td>\n",
              "      <td>[GHG emissions, GHG emissions, Corporate incom...</td>\n",
              "      <td>[0.6032284, 0.6493584, 0.53069377, 0.63353264,...</td>\n",
              "      <td>[GHG emissions, GHG emissions, Corporate incom...</td>\n",
              "      <td>[Environmental, Environmental, Economic, Envir...</td>\n",
              "    </tr>\n",
              "    <tr>\n",
              "      <th>4</th>\n",
              "      <td>with the help of energy management, the divisi...</td>\n",
              "      <td>[reduce energy consumption 1000 mwh, compared ...</td>\n",
              "      <td>[Environmental, Economic, Environmental, Envir...</td>\n",
              "      <td>[energy consumption, community investments, en...</td>\n",
              "      <td>[0.9421796, 0.5854432, 0.72099483, 0.7198863, ...</td>\n",
              "      <td>[energy consumption, community investments, en...</td>\n",
              "      <td>[Environmental, Economic, Environmental, Envir...</td>\n",
              "    </tr>\n",
              "    <tr>\n",
              "      <th>...</th>\n",
              "      <td>...</td>\n",
              "      <td>...</td>\n",
              "      <td>...</td>\n",
              "      <td>...</td>\n",
              "      <td>...</td>\n",
              "      <td>...</td>\n",
              "      <td>...</td>\n",
              "    </tr>\n",
              "    <tr>\n",
              "      <th>121</th>\n",
              "      <td>a forest plantation managed by new forests in ...</td>\n",
              "      <td>[carbon dioxide annually estimated carbon, pla...</td>\n",
              "      <td>[Environmental, Environmental, Environmental, ...</td>\n",
              "      <td>[GHG emissions, restored habitat areas, recycl...</td>\n",
              "      <td>[0.6681555, 0.6665286, 0.43836945, 0.56134325,...</td>\n",
              "      <td>[GHG emissions, restored habitat areas, recycl...</td>\n",
              "      <td>[Environmental]</td>\n",
              "    </tr>\n",
              "    <tr>\n",
              "      <th>122</th>\n",
              "      <td>waste_reduction, recycling business initiative...</td>\n",
              "      <td>[waste_reduction recycling business initiative...</td>\n",
              "      <td>[Environmental, Environmental, Environmental, ...</td>\n",
              "      <td>[recycled materials, non-renewable materials, ...</td>\n",
              "      <td>[0.61960626, 0.7124392, 0.6900979, 0.70979166,...</td>\n",
              "      <td>[recycled materials, non-renewable materials, ...</td>\n",
              "      <td>[Environmental, Environmental, Environmental, ...</td>\n",
              "    </tr>\n",
              "    <tr>\n",
              "      <th>123</th>\n",
              "      <td>waste_reduction: 71,670 tons/year sugar cane r...</td>\n",
              "      <td>[biomass power generation, waste_reduction 71 ...</td>\n",
              "      <td>[Environmental, Environmental, Environmental, ...</td>\n",
              "      <td>[energy consumption, organic pollutants, recyc...</td>\n",
              "      <td>[0.7994809, 0.47750506, 0.42381394, 0.46169093...</td>\n",
              "      <td>[energy consumption, organic pollutants, recyc...</td>\n",
              "      <td>[Environmental, Environmental, Environmental, ...</td>\n",
              "    </tr>\n",
              "    <tr>\n",
              "      <th>124</th>\n",
              "      <td>the amount of fossil-based electricity has bee...</td>\n",
              "      <td>[fossil based electricity reduced 91, percent ...</td>\n",
              "      <td>[Environmental, Economic, Environmental, Envir...</td>\n",
              "      <td>[energy consumption, third-party sales, energy...</td>\n",
              "      <td>[0.78861237, 0.47423828, 0.7629609, 0.76556104...</td>\n",
              "      <td>[energy consumption, third-party sales, energy...</td>\n",
              "      <td>[Environmental, Economic, Environmental, Envir...</td>\n",
              "    </tr>\n",
              "    <tr>\n",
              "      <th>125</th>\n",
              "      <td>since 2015, use has been reduced by 26 percent...</td>\n",
              "      <td>[biofuels th ghg_emissions nccs operations, op...</td>\n",
              "      <td>[Environmental, Economic, Economic, Environmen...</td>\n",
              "      <td>[GHG emissions, operation costs, Corporate inc...</td>\n",
              "      <td>[0.8240893, 0.4197875, 0.3660173, 0.78465533, ...</td>\n",
              "      <td>[GHG emissions, operation costs, Corporate inc...</td>\n",
              "      <td>[Environmental, Economic, Economic, Environmen...</td>\n",
              "    </tr>\n",
              "  </tbody>\n",
              "</table>\n",
              "<p>126 rows × 7 columns</p>\n",
              "</div>\n",
              "      <button class=\"colab-df-convert\" onclick=\"convertToInteractive('df-1a78877d-e15e-4d5f-b5be-f8f3fbd161d2')\"\n",
              "              title=\"Convert this dataframe to an interactive table.\"\n",
              "              style=\"display:none;\">\n",
              "        \n",
              "  <svg xmlns=\"http://www.w3.org/2000/svg\" height=\"24px\"viewBox=\"0 0 24 24\"\n",
              "       width=\"24px\">\n",
              "    <path d=\"M0 0h24v24H0V0z\" fill=\"none\"/>\n",
              "    <path d=\"M18.56 5.44l.94 2.06.94-2.06 2.06-.94-2.06-.94-.94-2.06-.94 2.06-2.06.94zm-11 1L8.5 8.5l.94-2.06 2.06-.94-2.06-.94L8.5 2.5l-.94 2.06-2.06.94zm10 10l.94 2.06.94-2.06 2.06-.94-2.06-.94-.94-2.06-.94 2.06-2.06.94z\"/><path d=\"M17.41 7.96l-1.37-1.37c-.4-.4-.92-.59-1.43-.59-.52 0-1.04.2-1.43.59L10.3 9.45l-7.72 7.72c-.78.78-.78 2.05 0 2.83L4 21.41c.39.39.9.59 1.41.59.51 0 1.02-.2 1.41-.59l7.78-7.78 2.81-2.81c.8-.78.8-2.07 0-2.86zM5.41 20L4 18.59l7.72-7.72 1.47 1.35L5.41 20z\"/>\n",
              "  </svg>\n",
              "      </button>\n",
              "      \n",
              "  <style>\n",
              "    .colab-df-container {\n",
              "      display:flex;\n",
              "      flex-wrap:wrap;\n",
              "      gap: 12px;\n",
              "    }\n",
              "\n",
              "    .colab-df-convert {\n",
              "      background-color: #E8F0FE;\n",
              "      border: none;\n",
              "      border-radius: 50%;\n",
              "      cursor: pointer;\n",
              "      display: none;\n",
              "      fill: #1967D2;\n",
              "      height: 32px;\n",
              "      padding: 0 0 0 0;\n",
              "      width: 32px;\n",
              "    }\n",
              "\n",
              "    .colab-df-convert:hover {\n",
              "      background-color: #E2EBFA;\n",
              "      box-shadow: 0px 1px 2px rgba(60, 64, 67, 0.3), 0px 1px 3px 1px rgba(60, 64, 67, 0.15);\n",
              "      fill: #174EA6;\n",
              "    }\n",
              "\n",
              "    [theme=dark] .colab-df-convert {\n",
              "      background-color: #3B4455;\n",
              "      fill: #D2E3FC;\n",
              "    }\n",
              "\n",
              "    [theme=dark] .colab-df-convert:hover {\n",
              "      background-color: #434B5C;\n",
              "      box-shadow: 0px 1px 3px 1px rgba(0, 0, 0, 0.15);\n",
              "      filter: drop-shadow(0px 1px 2px rgba(0, 0, 0, 0.3));\n",
              "      fill: #FFFFFF;\n",
              "    }\n",
              "  </style>\n",
              "\n",
              "      <script>\n",
              "        const buttonEl =\n",
              "          document.querySelector('#df-1a78877d-e15e-4d5f-b5be-f8f3fbd161d2 button.colab-df-convert');\n",
              "        buttonEl.style.display =\n",
              "          google.colab.kernel.accessAllowed ? 'block' : 'none';\n",
              "\n",
              "        async function convertToInteractive(key) {\n",
              "          const element = document.querySelector('#df-1a78877d-e15e-4d5f-b5be-f8f3fbd161d2');\n",
              "          const dataTable =\n",
              "            await google.colab.kernel.invokeFunction('convertToInteractive',\n",
              "                                                     [key], {});\n",
              "          if (!dataTable) return;\n",
              "\n",
              "          const docLinkHtml = 'Like what you see? Visit the ' +\n",
              "            '<a target=\"_blank\" href=https://colab.research.google.com/notebooks/data_table.ipynb>data table notebook</a>'\n",
              "            + ' to learn more about interactive tables.';\n",
              "          element.innerHTML = '';\n",
              "          dataTable['output_type'] = 'display_data';\n",
              "          await google.colab.output.renderOutput(dataTable, element);\n",
              "          const docLink = document.createElement('div');\n",
              "          docLink.innerHTML = docLinkHtml;\n",
              "          element.appendChild(docLink);\n",
              "        }\n",
              "      </script>\n",
              "    </div>\n",
              "  </div>\n",
              "  "
            ]
          },
          "metadata": {},
          "execution_count": 148
        }
      ]
    },
    {
      "cell_type": "markdown",
      "source": [
        "## Map Granular KPI Using Mapped ESG Category"
      ],
      "metadata": {
        "id": "0w5hw_6U1uno"
      }
    },
    {
      "cell_type": "code",
      "source": [
        "# CURATED KPI LIST\n",
        "\n",
        "granular_kpi_df = pd.read_csv('/content/drive/MyDrive/Colab Notebooks/ESG_KPI_Omdena/Data/Granular KPI list.csv')\n",
        "granular_kpi_df.fillna(' ',inplace=True)\n",
        "granular_kpi_df['combined_kpi'] = granular_kpi_df['KPI']+\" \"+ granular_kpi_df['Description of KPI']\n",
        "granular_kpi_df.rename(columns = {'ESG':\"ESG category\"},inplace=True)\n",
        "granular_kpi_df.columns"
      ],
      "metadata": {
        "colab": {
          "base_uri": "https://localhost:8080/"
        },
        "id": "vFB7HUB11eGy",
        "outputId": "d7f7f73b-9f74-4fc9-dc3d-a50bbd493d4d"
      },
      "execution_count": 183,
      "outputs": [
        {
          "output_type": "execute_result",
          "data": {
            "text/plain": [
              "Index(['Description of KPI', 'KPI', 'ESG category', 'category',\n",
              "       'gri_disclosure_sub_code', 'combined_kpi'],\n",
              "      dtype='object')"
            ]
          },
          "metadata": {},
          "execution_count": 183
        }
      ]
    },
    {
      "cell_type": "code",
      "source": [
        "#Generate KPI , Similarity Scores , ESG Category Mappings\n",
        "key_phrase_list = clean_sent_kpi['Key_Phrases']\n",
        "\n",
        "kpi_df = pd.DataFrame(columns=['Granular_KPI','Granular_Similarity_Score'])\n",
        "for ind, key_phrases in enumerate(key_phrase_list):\n",
        "  kpi_list = []\n",
        "  score_list = []\n",
        "  esg_cat_list = clean_sent_kpi['Combined_Category'].iloc[ind]\n",
        "  if len(esg_cat_list) == 1:\n",
        "    key_phrase = \" \".join(key_phrases[:3])\n",
        "    category_kpi_df = granular_kpi_df[granular_kpi_df['ESG category']==esg_cat_list[0]]\n",
        "    kpi, sim_score, _ = get_sentences_kpi(model_class, key_phrase, category_kpi_df)\n",
        "    kpi_list.append(kpi)\n",
        "    score_list.append(sim_score)\n",
        "  else:\n",
        "    for j,key_phrase in enumerate(key_phrases):\n",
        "      category_kpi_df = granular_kpi_df[granular_kpi_df['ESG category']==esg_cat_list[j]]\n",
        "      kpi, sim_score, category = get_sentences_kpi(model_class, key_phrase,category_kpi_df)\n",
        "      kpi_list.append(kpi)\n",
        "      score_list.append(sim_score)\n",
        "  kpi_df.at[ind, 'Granular_KPI'] = kpi_list\n",
        "  kpi_df.at[ind, 'Granular_Similarity_Score'] = score_list"
      ],
      "metadata": {
        "id": "I_DN-yf845Lf"
      },
      "execution_count": 185,
      "outputs": []
    },
    {
      "cell_type": "code",
      "source": [
        "clean_sent_gen_gran_kpi = pd.concat([clean_sent_kpi,kpi_df],axis=1)\n",
        "clean_sent_gen_gran_kpi.to_excel('Clean_Sentences_Generic_Granular_KPI.xlsx')\n",
        "clean_sent_gen_gran_kpi"
      ],
      "metadata": {
        "id": "I-FT6UnE7-qt"
      },
      "execution_count": 191,
      "outputs": []
    },
    {
      "cell_type": "code",
      "source": [
        "# #MAX SUM\n",
        "# kw_model = KeyBERT(model= model)\n",
        "# keywords = kw_model.extract_keywords(doc, keyphrase_ngram_range=(2, 4), stop_words='english',\n",
        "#                               use_maxsum=True, nr_candidates=15, top_n=5)"
      ],
      "metadata": {
        "id": "TH1bayZl92KB"
      },
      "execution_count": 140,
      "outputs": []
    }
  ]
}