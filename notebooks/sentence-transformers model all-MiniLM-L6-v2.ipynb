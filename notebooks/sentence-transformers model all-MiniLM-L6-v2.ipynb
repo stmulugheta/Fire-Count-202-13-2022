{
 "cells": [
  {
   "cell_type": "markdown",
   "id": "10f9e7a9",
   "metadata": {},
   "source": [
    "# Sentence Transformers \n",
    "\n",
    "### all-MiniLM-L6-v2 \n",
    "\n",
    "This is a sentence-transformers model: It maps sentences & paragraphs to a 384 dimensional dense vector space and can be used for tasks like clustering or semantic search.\n",
    "\n",
    "\n",
    "#### Background\n",
    "It aims to train sentence embedding models on very large sentence level datasets using a self-supervised contrastive learning objective. The Language model used the pretrained nreimers/MiniLM-L6-H384-uncased model and fine-tuned in on a 1B sentence pairs dataset. \n",
    "\n",
    "It uses a contrastive learning objective: given a sentence from the pair, the model should predict which out of a set of randomly sampled other sentences, was actually paired with it in our dataset.\n",
    "\n",
    "#### Intended uses\n",
    "Our model is intented to be used as a sentence and short paragraph encoder. Given an input text, it ouptuts a vector which captures the semantic information. The sentence vector may be used for information retrieval, clustering or sentence similarity tasks.\n",
    "\n",
    "By default, input text longer than 256 word pieces is truncated.\n",
    "\n",
    "\n",
    "\n",
    "#### References  \n",
    "https://huggingface.co/sentence-transformers/all-MiniLM-L6-v2\n"
   ]
  },
  {
   "cell_type": "code",
   "execution_count": 1,
   "id": "04709f63",
   "metadata": {},
   "outputs": [],
   "source": [
    "import openpyxl\n",
    "import pandas as pd\n",
    "df_report = pd.read_csv('../500-reports-dataset/010c3e42-f753-47e8-bf0a-e9ed383a215b_sent.csv')\n",
    "df_kpi = pd.read_excel('../KPI sample dataset.xlsx')\n",
    "\n"
   ]
  },
  {
   "cell_type": "code",
   "execution_count": 2,
   "id": "0426b280",
   "metadata": {},
   "outputs": [],
   "source": [
    "from transformers import AutoTokenizer, AutoModel\n",
    "from sentence_transformers import SentenceTransformer, util\n",
    "\n",
    "import torch\n",
    "import torch.nn.functional as F\n",
    "\n",
    "#Mean Pooling - Take attention mask into account for correct averaging\n",
    "def mean_pooling(model_output, attention_mask):\n",
    "    token_embeddings = model_output[0] #First element of model_output contains all token embeddings\n",
    "    input_mask_expanded = attention_mask.unsqueeze(-1).expand(token_embeddings.size()).float()\n",
    "    return torch.sum(token_embeddings * input_mask_expanded, 1) / torch.clamp(input_mask_expanded.sum(1), min=1e-9)\n",
    "\n",
    "\n"
   ]
  },
  {
   "cell_type": "code",
   "execution_count": 3,
   "id": "1f43fcc9",
   "metadata": {},
   "outputs": [
    {
     "data": {
      "text/plain": [
       "Index(['Sentences', 'KPI', 'Quantity', 'Indication', 'Time'], dtype='object')"
      ]
     },
     "execution_count": 3,
     "metadata": {},
     "output_type": "execute_result"
    }
   ],
   "source": [
    "df_kpi.columns"
   ]
  },
  {
   "cell_type": "code",
   "execution_count": 4,
   "id": "d90b5db7",
   "metadata": {},
   "outputs": [],
   "source": [
    "df_kpi = df_kpi[['Sentences','KPI']]"
   ]
  },
  {
   "cell_type": "code",
   "execution_count": 5,
   "id": "2e544ed3",
   "metadata": {},
   "outputs": [],
   "source": [
    "df_kpi.dropna(inplace=True)"
   ]
  },
  {
   "cell_type": "code",
   "execution_count": 6,
   "id": "55a3be2e",
   "metadata": {},
   "outputs": [
    {
     "data": {
      "text/plain": [
       "Index(['company', 'paragraphs', 'sentences'], dtype='object')"
      ]
     },
     "execution_count": 6,
     "metadata": {},
     "output_type": "execute_result"
    }
   ],
   "source": [
    "df_report.columns"
   ]
  },
  {
   "cell_type": "code",
   "execution_count": 7,
   "id": "212a7c01",
   "metadata": {},
   "outputs": [
    {
     "data": {
      "text/plain": [
       "(967, 3)"
      ]
     },
     "execution_count": 7,
     "metadata": {},
     "output_type": "execute_result"
    }
   ],
   "source": [
    "df_report.shape"
   ]
  },
  {
   "cell_type": "code",
   "execution_count": 8,
   "id": "bec9c2e3",
   "metadata": {},
   "outputs": [
    {
     "data": {
      "text/plain": [
       "'as taken back in 20 * the photo | sustainability report 2020 foreword strategy & governance promotion report foreword by the managing board green and social bonds eco-balance human resources corporate citizenship dear readers, sustainable urban and neighbourhood development, resource-efficient circular economy, environmentally friendly mobility, climate-friendly energy supply and equal opportunities in education and digitalisation in our ca- pacity as the promotional bank for the state of north rhine-westphalia, we support and accompany enterprises and municipalities in improving the living conditions in nrw.'"
      ]
     },
     "execution_count": 8,
     "metadata": {},
     "output_type": "execute_result"
    }
   ],
   "source": [
    "sentences = df_report.sentences.to_list()[0:250]\n",
    "sentences[0]"
   ]
  },
  {
   "cell_type": "code",
   "execution_count": 9,
   "id": "d85b0ef5",
   "metadata": {},
   "outputs": [
    {
     "data": {
      "text/plain": [
       "['use of electricity from renewable sources\\ntotal energy consumption from fossil fuel sources',\n",
       " 'the energy expenditure',\n",
       " 'a greenhouse gas emissions reduction target',\n",
       " 'the emission',\n",
       " 'with the help of energy management\\nenergy consumption',\n",
       " 'its co2 emissions',\n",
       " 'ghg emissions\\ncarbon neutrality',\n",
       " 'progress on climate action acciona met\\nits emissions reduction targets',\n",
       " 'the scope 3 emissions figure\\nwhile the scope 3 emissions overall were down',\n",
       " '5,000 renewable mw',\n",
       " 'the energy demand of conventional flat panel radiators',\n",
       " 'overall the efficient products of the hvac division will save up annually\\nsince heat pumps',\n",
       " 'energy consumption',\n",
       " 'energy consumption amounted',\n",
       " 'new guidelines for the proper use of energy\\nwith the appropriate training of employees\\na reduction in electricity consumption',\n",
       " 'a reduction in energy consumption',\n",
       " 'the new cooling vestibules\\nto the increase in energy consumption',\n",
       " '_emissions reduce\\nthe total scope_1 _emissions of the group amounted',\n",
       " 'for our offshore energy division',\n",
       " 'into the emission reduction potential of different vessels\\nthe carbon advantage\\nfuel consumption',\n",
       " 'the water ballast',\n",
       " 'our carbon intensity also reduced',\n",
       " 'thus the company is well aware\\nthe effects of climate change\\nthe greenhouse _gas_emissions\\nwell below 2 degrees celsius above pre-industrial levels',\n",
       " 'the rate of direct greenhouse\\nper employee',\n",
       " 'the rate of direct greenhouse emission per employee equals\\n61.08 tons of carbon dioxide equivalent',\n",
       " 'the company emitted\\nof direct greenhouse_gas',\n",
       " 'the rate of direct greenhouse emission per employee stood\\nat 1.92 tons of carbon dioxide equivalent',\n",
       " 'indirect greenhouse stood\\nemission from electricity consumption\\nat 15,915 tons of carbon dioxide equivalent',\n",
       " 'the rate of indirect greenhouse emission from electricity consumption per employee stood\\nat 59.16 tons of carbon dioxide equivalent',\n",
       " 'the average electricity consumption per employee stood\\nto the reduction of the volume of greenhouse _gas_emissions\\nof 20.51 tons of carbon dioxide equivalent',\n",
       " 'the proportion of the renewable_energy consumption from various sources\\nto 20 % of the total energy consumption in amata smart city\\nthe energy_efficiency',\n",
       " 'saved 26kl of fuel\\nreduced co2 emission by 67t\\nenvironmental_impact\\nfurther energy _saving\\nenergy consumption',\n",
       " '380k of fuel\\ncoz emission by 980t dug out\\nin significant decrease along with greater effective ness in safety\\nby vehicles',\n",
       " 'our solar energy consumption increased',\n",
       " 'about 6 kw of cooling',\n",
       " 'footprint\\nis within 5 km of the local_communities\\nthe food miles higher yield distance from farm to plate\\ncarbon_footprint',\n",
       " 'to a net ghg reduction of co',\n",
       " '1 % of our total energy consumption\\nfrom solar energy',\n",
       " 'our environmental footprint\\nconstruction waste',\n",
       " 'this includes\\nmaterials such autoclaved aerated concrete\\nwhich is a lightweight precast foam concrete building material\\nat least 30 % in industrial waste\\n50 % in greenhouse radiation\\nover 60 % of integrated energy on the surface of bricks',\n",
       " 'our environmental_impact\\ngood prospects\\nthe amount of purchased energy increased\\nfor electricity\\nfor heating',\n",
       " 'the carbon _footprint of our glazed balconies\\nthe repayment period on the climate debt',\n",
       " 'energy conservation\\nthe use of renewable_energy including these efforts\\na greenhouse _gas_emissions reduction per unit of sales',\n",
       " 'consequently the ratio of power generation by the group reached\\nrenewable_energy sources\\nto electricity consumption',\n",
       " 'zero carbon monozukuri',\n",
       " 'the construction of zero energy towns\\nthrough renewable_energy based power generation',\n",
       " 'energy _saving\\nthe groupwide energy_efficiency\\nsales unit per consumed energy',\n",
       " 'renewable_energy\\nthe ratio of renewable_energy based power generation including sales of electricity\\nto the groupwide use of electricity\\nwith renewable_energy',\n",
       " 'our scope_3_emissions account',\n",
       " 'the share of our efficient energy 037 daiwahousegroup sustainability report',\n",
       " 'main approach greenhouse _gas_emissions reduction at the procurement stage we have determined\\n98.7 % of our greenhouse _gas_emissions\\nas scope_3_emissions',\n",
       " 'renewable_energy usage rate',\n",
       " 'renewable_energy will account\\nin the target energy mix\\njapans renewable medium energy percentage was 16 % as 2017',\n",
       " 'a reduction in energy consumption',\n",
       " 'its energy consumption is lower',\n",
       " 'its energy_efficiency\\nacross three product categories\\nthe energy index',\n",
       " 'energy_efficiency\\nat our manufacturing sites',\n",
       " 'the proportion of renewable_energy',\n",
       " 'the amount of waste\\nwithout energy recovery',\n",
       " 'our energy_efficiency per oroduct',\n",
       " 'with energy_efficiency',\n",
       " 'the for the better sustainability framework including the objective\\nour business circular\\nabout our climate targets',\n",
       " 'energy_efficiency\\nat our manufacturing sites\\nour updated energy management warehouses',\n",
       " 'the proportion of renewable_energy\\nelectricity\\nfrom certihed renewable operations',\n",
       " 'our logistics climate',\n",
       " 'carbon',\n",
       " 'the energy_efficiency of manufacturing sites',\n",
       " 'its energy_efficiency per product\\nthe energy management program has contributed annually\\nin reduced energy costs',\n",
       " 'energy improvement targets',\n",
       " 'the energy_use per product',\n",
       " 'our scope_1\\n5 _emissions from the use of our sold products',\n",
       " '45 progress on our climate targets our based climate target\\nabout our scope_1 in our promise',\n",
       " 'based emission targets\\nclimate',\n",
       " 'our share of energy\\nfrom renewable _sources',\n",
       " 'the ultrawash cycle is the ideal balance of care for mixed loads\\na cycle saves up\\nto energy',\n",
       " 'efficiency improvements together with a shift to renewable electricity has reduced\\nenergy\\nat electrolux manufacturing sites per product',\n",
       " 'despite the increase in production capabilities',\n",
       " 'energy',\n",
       " '89 towards carbon neutrality\\nby and_emissions from products',\n",
       " 'water scarcity levels are rising\\nin water -stressed areas\\nstill the average daily water _consumption per person is up 500 liters in some developed countries\\napproximately 16 % of energy consumption in the home\\nto water usage',\n",
       " 'by and_emissions from products',\n",
       " 'first-tier production supplier\\ntransportation related ghg year data is available',\n",
       " 'scope_1\\ntonnes of scope_1',\n",
       " 'our scope_1\\nby the science based targets initiative including classification of our scope_1 _2 ghg_emissions target as consistent',\n",
       " 'hps carbon _footprint equaled\\nwith product use\\nto product manufacturing\\nby the impact of covid - 19 on sales of different product lines',\n",
       " '1 % of our footprint',\n",
       " 'our water footprint equaled\\nfrom a reduction in indirect water_consumption from electricity generation\\nwith hp product use',\n",
       " 'significant capital energy_efficiency projects',\n",
       " '604,901 mwh of energy\\nenergy intensity equaled less',\n",
       " 'by 77 % through energy_efficiency',\n",
       " '2 % of our total water footprint',\n",
       " 'renewable_energy',\n",
       " 'the carbon _footprint of ink purchase\\nenergy_use\\nwater use\\nwith cartridge purchase through traditional 84 hp sustainable impact report footprint integrity retail channels',\n",
       " '46 % in energy_use',\n",
       " 'approximately 85 % of the energy\\nduring the multi-decade lifecycle of a homeincluding the initial raw_material extraction',\n",
       " 'energy star certified\\na energy efficiency improvement on average',\n",
       " 'each energy star certified home',\n",
       " 'over 150,000 energy star certified homes\\nnearly 557,000 cars',\n",
       " 'greater energy_efficiency\\nour carbon emission reduction targets\\nkb homes energy rating system',\n",
       " 'the energy_efficiency of a home\\nthe more energy efficient',\n",
       " 'our environmental_impact\\neco-conscious products',\n",
       " 'the amount of water\\nenergy',\n",
       " 'volume of water for washing hands\\nenergy_use\\ncompared to traditional electric water heaters',\n",
       " 'steam use equivalent',\n",
       " 'combined driving distance with partner companies\\na reduction in co _emissions intensity per tonne-km',\n",
       " 'our grohe production plant has replaced\\ntwo inefficient boilers with a cogeneration system',\n",
       " 'all grohe production sites achieved\\na shift to renewable_energy',\n",
       " 'to renewable_energy',\n",
       " 'to bottled water\\nplastic waste',\n",
       " 'emission intensity from places of business across the group\\nemission intensity from transportation\\nwater usage efficiency\\nat high water risk bases',\n",
       " 'as a percentage of our equity share of power generation capacity\\nthe percentage of renewable_energy including hydropower',\n",
       " 'by renewable_energy',\n",
       " 'a forest plantation\\nby new forests in australia our company -owned forests\\n160,000 tons of carbon dioxide\\nthat the carbon dioxide co2 accumulation has reached\\nby mitsuis forests amounts',\n",
       " 'waste_reduction gestamp automocidn s.a. contributes\\nto a circular economy 3r design\\nto energy_efficiency improvement of vehicles on a global basis',\n",
       " 'year sugar cane residue from a sugar manufacturing business\\nas fuel\\nfor biomass power generation\\nthe electric power\\nfor the operation of its plants with surplus electric power\\nto an increase in the use of renewable_energy',\n",
       " 'the amount of fossil-based electricity']"
      ]
     },
     "execution_count": 9,
     "metadata": {},
     "output_type": "execute_result"
    }
   ],
   "source": [
    "kpi_sentences = df_kpi.KPI.to_list()\n",
    "kpi_sentences"
   ]
  },
  {
   "cell_type": "code",
   "execution_count": 10,
   "id": "f9e4f11b",
   "metadata": {},
   "outputs": [],
   "source": [
    "# Sentences we want sentence embeddings for\n",
    "#sentences = ['This is an example sentence', 'Each sentence is converted']\n",
    "\n",
    "# Load model from HuggingFace Hub\n",
    "tokenizer = AutoTokenizer.from_pretrained('sentence-transformers/all-MiniLM-L6-v2')\n",
    "model = AutoModel.from_pretrained('sentence-transformers/all-MiniLM-L6-v2')\n",
    "\n",
    "# Tokenize sentences\n",
    "encoded_input_sentences = tokenizer(sentences, padding=True, truncation=True, return_tensors='pt')\n",
    "\n",
    "# Tokenize KPIs\n",
    "\n",
    "encoded_input_kpis = tokenizer(kpi_sentences, padding=True, truncation=True, return_tensors='pt')\n"
   ]
  },
  {
   "cell_type": "code",
   "execution_count": 11,
   "id": "4317fd00",
   "metadata": {},
   "outputs": [
    {
     "name": "stdout",
     "output_type": "stream",
     "text": [
      "Sentence embeddings:\n",
      "tensor([ 2.9378e-02,  6.3231e-02,  7.3311e-03,  3.3939e-02,  1.0283e-02,\n",
      "         2.5590e-02, -2.1547e-02, -5.2118e-02, -1.2180e-02, -2.2989e-02,\n",
      "         1.7675e-03, -8.9223e-02,  6.1453e-03,  4.3522e-02,  3.3389e-02,\n",
      "        -3.2338e-02, -4.2420e-02, -2.8161e-02, -4.7802e-04, -3.8429e-02,\n",
      "        -4.7781e-02, -5.7008e-02,  3.4144e-03, -7.5171e-03, -1.9518e-02,\n",
      "        -7.9651e-03,  2.4505e-02, -1.7000e-02, -2.9347e-02, -1.7121e-02,\n",
      "         6.5101e-02,  2.8509e-02, -2.5904e-02, -4.4641e-02,  8.4384e-02,\n",
      "         9.3945e-02,  3.8810e-02, -1.6127e-02, -5.8611e-02, -1.6423e-02,\n",
      "        -4.0294e-02, -1.1505e-01, -4.9678e-02, -2.6736e-02, -1.2339e-02,\n",
      "         3.2496e-02,  5.6462e-02,  4.0059e-03, -7.9637e-02, -5.6360e-02,\n",
      "         6.2368e-02, -1.1834e-01,  4.1614e-02,  1.6330e-02,  1.5667e-02,\n",
      "         1.3641e-02, -1.2777e-02,  1.7720e-02, -1.3524e-02, -7.4504e-02,\n",
      "         7.5517e-02, -2.8611e-02, -6.0353e-02,  5.2160e-02,  3.8249e-02,\n",
      "         2.8641e-03, -3.8119e-02,  9.2378e-02, -9.4592e-02, -1.0350e-01,\n",
      "         9.7087e-02, -1.5286e-01,  2.5582e-02, -4.8633e-02,  7.1414e-02,\n",
      "        -6.1789e-02,  2.6785e-02,  7.1347e-02,  1.5138e-01, -3.6472e-02,\n",
      "         1.2382e-01,  4.8172e-02, -1.6936e-02,  1.1614e-02, -8.7852e-02,\n",
      "         2.8140e-02,  4.5060e-02, -2.4783e-02,  3.5123e-02,  3.1753e-02,\n",
      "        -2.7153e-02,  2.3801e-02,  5.0951e-02, -1.3362e-02, -1.5379e-01,\n",
      "        -1.2418e-03, -5.6913e-03,  2.1318e-02, -1.1881e-03,  2.8893e-02,\n",
      "         6.8597e-02,  8.5519e-02, -9.3935e-03,  2.1532e-03, -6.1558e-02,\n",
      "        -3.8526e-02, -1.0159e-02,  5.7958e-02,  1.2590e-03,  1.6838e-02,\n",
      "        -1.3206e-02,  7.3772e-02, -6.7671e-02, -1.4661e-02,  2.7621e-02,\n",
      "        -3.2746e-02, -1.4936e-02, -9.0170e-03,  7.5950e-02, -7.7566e-02,\n",
      "         1.1739e-04,  3.0395e-02, -1.0131e-01,  2.1839e-02,  4.8982e-02,\n",
      "         3.2536e-02, -4.4004e-02,  2.2275e-33, -9.6819e-02,  4.4202e-02,\n",
      "         4.3299e-02, -4.8438e-02,  3.2052e-02, -2.2102e-02, -4.2739e-02,\n",
      "        -1.5927e-02, -1.1515e-01,  5.1116e-03,  6.3041e-02,  1.0078e-02,\n",
      "         5.2675e-02,  3.2206e-03,  3.1603e-02, -3.3013e-02, -1.2191e-01,\n",
      "        -6.9670e-03,  1.7733e-02,  5.9298e-02, -5.3251e-03,  5.0189e-02,\n",
      "         2.8766e-02,  3.6743e-02,  8.8327e-02, -3.8244e-02,  2.3778e-02,\n",
      "         3.8102e-02,  6.5450e-02,  7.9036e-03,  5.2002e-02,  2.1979e-02,\n",
      "         4.0630e-03, -1.0703e-01,  7.5317e-03,  4.3263e-02, -3.4654e-03,\n",
      "         4.0076e-03, -2.7683e-02, -2.6362e-02, -5.5420e-02,  9.8108e-03,\n",
      "        -3.4859e-02,  3.6683e-02,  4.7511e-02,  6.0451e-02,  1.0866e-01,\n",
      "        -1.0532e-02, -2.9428e-02,  3.2776e-02, -1.2035e-02,  2.9782e-02,\n",
      "        -3.5235e-02,  6.2058e-03,  8.9695e-03,  2.2342e-02, -1.7928e-02,\n",
      "         8.7089e-03, -5.4172e-02, -1.3416e-01, -2.9019e-02,  2.9493e-02,\n",
      "        -4.6700e-02, -1.6334e-04,  4.4647e-02, -2.0133e-03,  6.2956e-03,\n",
      "         4.7851e-02,  1.9978e-02, -1.8256e-02,  6.4314e-02, -1.8765e-02,\n",
      "        -1.5137e-02,  5.7832e-02, -3.7727e-02, -1.4246e-02, -3.6500e-02,\n",
      "         4.3957e-02, -3.5347e-02,  4.8690e-02, -5.6045e-02, -2.3123e-02,\n",
      "        -2.7656e-03, -3.4834e-02,  1.9142e-01, -5.0036e-02,  7.7094e-02,\n",
      "        -3.2439e-02,  3.9940e-02,  8.0315e-02, -2.6315e-02, -8.3745e-03,\n",
      "         5.6191e-02,  1.3058e-01, -6.8878e-02, -3.7339e-33,  6.4274e-02,\n",
      "        -3.6888e-02, -4.5640e-02, -7.8859e-02, -3.1946e-04, -1.1769e-02,\n",
      "        -8.1359e-02, -3.9365e-02, -1.8528e-02, -6.6261e-02, -4.9724e-02,\n",
      "         4.1991e-02,  1.3419e-02,  9.7103e-02, -4.9029e-02, -4.2887e-02,\n",
      "         1.7656e-02,  2.4993e-02, -3.0080e-02,  6.4237e-03,  1.5228e-02,\n",
      "        -7.1039e-03, -9.2487e-03,  1.3969e-01, -6.5665e-02,  5.8188e-02,\n",
      "         2.2076e-02, -9.4628e-03,  6.3214e-02, -5.9788e-02, -1.2967e-02,\n",
      "        -7.9273e-02, -3.5769e-02, -5.8637e-04, -4.8971e-02, -2.4998e-02,\n",
      "         1.4309e-02, -7.3020e-02,  3.8424e-02,  9.3626e-02, -2.6759e-02,\n",
      "        -3.6495e-02, -8.2582e-02,  4.0674e-02, -3.4218e-02,  1.3969e-02,\n",
      "        -5.0427e-02, -4.2294e-02, -2.6800e-02, -1.7968e-02,  8.0955e-02,\n",
      "        -7.5017e-05, -4.3819e-02,  9.1604e-03, -5.8489e-03,  1.6158e-02,\n",
      "         7.3968e-02,  4.8284e-02,  4.2464e-02,  1.2952e-02,  4.0723e-02,\n",
      "         9.5173e-02, -1.7113e-02,  8.8342e-02,  9.3124e-04, -9.0981e-02,\n",
      "        -3.6589e-02, -1.3447e-02,  3.3801e-03, -5.8061e-02, -5.3298e-02,\n",
      "         4.3216e-02, -1.2122e-01, -1.0059e-01, -5.8110e-02, -1.9812e-02,\n",
      "         5.1856e-02, -6.5391e-03, -2.2652e-04,  4.6188e-03, -1.1528e-02,\n",
      "         8.9706e-04,  5.2741e-02, -2.0557e-03,  5.3220e-02,  7.4969e-03,\n",
      "        -4.6684e-03, -9.6403e-02,  3.8429e-02,  5.9827e-02, -1.5394e-02,\n",
      "        -1.8562e-02, -2.4028e-02,  1.1944e-01,  1.7053e-02, -5.4413e-08,\n",
      "         2.2195e-02, -1.2424e-02, -1.9958e-02,  4.6434e-03, -3.3225e-02,\n",
      "        -4.1688e-02,  3.8099e-02, -5.5540e-02, -1.7754e-02,  7.2814e-02,\n",
      "         9.5071e-03,  9.0603e-02, -3.1016e-02,  4.1472e-02, -1.6527e-02,\n",
      "         8.6225e-03, -3.1909e-02,  2.2211e-02, -3.9178e-02,  3.3206e-02,\n",
      "         6.0340e-03,  2.0532e-03, -7.9272e-02,  5.5292e-02, -2.9625e-02,\n",
      "         3.3907e-02,  4.9517e-02, -1.5259e-02,  6.7456e-02, -4.4096e-02,\n",
      "        -6.8665e-02,  7.9261e-02,  2.2410e-05,  1.7708e-02, -2.5094e-02,\n",
      "        -5.8526e-02, -7.3022e-03,  8.5350e-02, -4.6045e-03, -5.1226e-03,\n",
      "        -5.3629e-02,  1.7244e-02, -3.1547e-02,  2.0404e-03, -7.5739e-02,\n",
      "        -3.9498e-02, -6.5273e-02,  6.6448e-02,  5.0726e-02, -5.5800e-02,\n",
      "        -4.7343e-02, -6.2561e-02, -3.3843e-03,  2.9617e-02, -1.9854e-02,\n",
      "         2.2463e-03, -3.3811e-02,  7.8239e-02, -2.5737e-02,  2.9196e-02,\n",
      "         4.6439e-02, -9.7157e-02,  2.9726e-02,  2.7015e-02])\n"
     ]
    }
   ],
   "source": [
    "# Compute token embeddings\n",
    "with torch.no_grad():\n",
    "    model_output_sentences = model(**encoded_input_sentences)\n",
    "\n",
    "# Perform pooling\n",
    "sentence_embeddings = mean_pooling(model_output_sentences, encoded_input_sentences['attention_mask'])\n",
    "\n",
    "# Normalize embeddings\n",
    "sentence_embeddings = F.normalize(sentence_embeddings, p=2, dim=1)\n",
    "\n",
    "print(\"Sentence embeddings:\")\n",
    "print(sentence_embeddings[0])"
   ]
  },
  {
   "cell_type": "code",
   "execution_count": 12,
   "id": "0f210636",
   "metadata": {},
   "outputs": [
    {
     "name": "stdout",
     "output_type": "stream",
     "text": [
      "Sentence embeddings KPIs:\n",
      "tensor([[ 0.0045,  0.1391, -0.0004,  ..., -0.0064,  0.0684,  0.0197],\n",
      "        [ 0.0204,  0.0894,  0.0036,  ...,  0.0024, -0.0033,  0.0207],\n",
      "        [ 0.0493,  0.1274,  0.0173,  ..., -0.0529, -0.0207,  0.0179],\n",
      "        ...,\n",
      "        [-0.0315,  0.1166, -0.0232,  ...,  0.0052, -0.0051,  0.0163],\n",
      "        [-0.0555,  0.0511, -0.0658,  ..., -0.0954,  0.0428, -0.0435],\n",
      "        [-0.0728,  0.1049,  0.0672,  ..., -0.0865,  0.0394, -0.0360]])\n"
     ]
    }
   ],
   "source": [
    "# Compute token embeddings\n",
    "with torch.no_grad():\n",
    "    model_output_kpis = model(**encoded_input_kpis)\n",
    "\n",
    "# Perform pooling\n",
    "sentence_embeddings_kpis = mean_pooling(model_output_kpis, encoded_input_kpis['attention_mask'])\n",
    "\n",
    "# Normalize embeddings\n",
    "sentence_embeddings_kpis = F.normalize(sentence_embeddings_kpis, p=2, dim=1)\n",
    "\n",
    "print(\"Sentence embeddings KPIs:\")\n",
    "print(sentence_embeddings_kpis)"
   ]
  },
  {
   "cell_type": "code",
   "execution_count": null,
   "id": "7204292f",
   "metadata": {},
   "outputs": [],
   "source": []
  },
  {
   "cell_type": "code",
   "execution_count": 13,
   "id": "103610c9",
   "metadata": {},
   "outputs": [
    {
     "data": {
      "text/plain": [
       "41"
      ]
     },
     "execution_count": 13,
     "metadata": {},
     "output_type": "execute_result"
    }
   ],
   "source": [
    "benchmark_similarity = 0.5\n",
    "similarity_score=[]\n",
    "for j in range(0, len(sentence_embeddings)):\n",
    "    for i in range(j, len(sentence_embeddings_kpis)):\n",
    "        score = util.pytorch_cos_sim(sentence_embeddings[j],sentence_embeddings_kpis[i]).item() \n",
    "        if score > benchmark_similarity:\n",
    "            similarity_score.append([j,sentences[j], i,kpi_sentences[i], score ])\n",
    "            \n",
    "len(similarity_score)"
   ]
  },
  {
   "cell_type": "code",
   "execution_count": 19,
   "id": "0087b48e",
   "metadata": {},
   "outputs": [
    {
     "data": {
      "text/plain": [
       "(41, 5)"
      ]
     },
     "execution_count": 19,
     "metadata": {},
     "output_type": "execute_result"
    }
   ],
   "source": [
    "df_temp = pd.DataFrame(similarity_score)\n",
    "df_temp.shape"
   ]
  },
  {
   "cell_type": "code",
   "execution_count": 21,
   "id": "ea46b7fc",
   "metadata": {},
   "outputs": [],
   "source": [
    "df_temp.columns = ['sentence_index','sentence','kpi_index','kpi','similarity score']"
   ]
  },
  {
   "cell_type": "code",
   "execution_count": 27,
   "id": "55e95a60",
   "metadata": {},
   "outputs": [],
   "source": [
    "pd.set_option(\"display.max_columns\", None)\n",
    "pd.options.display.max_seq_items = 2000\n"
   ]
  },
  {
   "cell_type": "code",
   "execution_count": 29,
   "id": "e9e76ab8",
   "metadata": {},
   "outputs": [
    {
     "data": {
      "text/plain": [
       "array([['as taken back in 20 * the photo | sustainability report 2020 foreword strategy & governance promotion report foreword by the managing board green and social bonds eco-balance human resources corporate citizenship dear readers, sustainable urban and neighbourhood development, resource-efficient circular economy, environmentally friendly mobility, climate-friendly energy supply and equal opportunities in education and digitalisation in our ca- pacity as the promotional bank for the state of north rhine-westphalia, we support and accompany enterprises and municipalities in improving the living conditions in nrw.',\n",
       "        'the for the better sustainability framework including the objective\\nour business circular\\nabout our climate targets'],\n",
       "       ['after all, sustainable action is not only our statuto- ry mission, but also a central guiding principle and essential criterion in our business policy decisions.',\n",
       "        'the for the better sustainability framework including the objective\\nour business circular\\nabout our climate targets'],\n",
       "       [' has set itself ambitious goals: in our revised sustainability guidelines, we commit ourselves to aligning our product and service port- folio with the aim of largely achieving climate neutrality by 2050. we thus support our owner, the state of north rhine-westphalia, in implementing its sustainability strategy and reaching the climate targets of the paris agreement.',\n",
       "        'the for the better sustainability framework including the objective\\nour business circular\\nabout our climate targets'],\n",
       "       [' has set itself ambitious goals: in our revised sustainability guidelines, we commit ourselves to aligning our product and service port- folio with the aim of largely achieving climate neutrality by 2050. we thus support our owner, the state of north rhine-westphalia, in implementing its sustainability strategy and reaching the climate targets of the paris agreement.',\n",
       "        '45 progress on our climate targets our based climate target\\nabout our scope_1 in our promise'],\n",
       "       ['in doing so, we are guided by established and meaningful sustainability initiatives, such as the ten principles of the un global compact and the principles for responsible investment.',\n",
       "        'the for the better sustainability framework including the objective\\nour business circular\\nabout our climate targets'],\n",
       "       ['demand for sustainable financing picked up as well, which proves that the economy and society have become aware of the relevance | sustainability report 2020 foreword strategy & governance promotion report of sustainability and take advantage of the corresponding offers.',\n",
       "        'the for the better sustainability framework including the objective\\nour business circular\\nabout our climate targets'],\n",
       "       ['in the promotional theme energy transition/environmental protection alone granted a total of € 4.3 billion in 2020. this represents an increase by well over 100% compared to the previous year (€ 1.6 billion).',\n",
       "        'our environmental_impact\\ngood prospects\\nthe amount of purchased energy increased\\nfor electricity\\nfor heating'],\n",
       "       ['we use climate certifi- cates to offset emissions that cannot be avoided.',\n",
       "        'based emission targets\\nclimate'],\n",
       "       ['sustainability balance environmental performance indicators greenhouse gas emissions total emissions 1,641 2,009 1,861 t co,e thereof direct emissions (scope 1 ) 357 521 423 t co.e thereof indirect emissions (scope 2) 609 501 459 t co,e thereof indirect emissions (scope 3) 675 987 979 t co.e emissions per employee 1.07 1.36 1.28 t co,e thereof offset 100 100 100 % building energy total electricity consumption 7,062,185 6,105,858 5,918,385 kwh thereof from green electricity 100 100 100 % electricity consumption per employee 4,584 4,128 4,075 kwh total heating energy 6,705,356 5,525,128 5,060,700 kwh heating energy per employee 4,353 3,735 3,484 kwh business travel total kilometres travelled 2,304,183 4,984,679 4,736,230 km kilometres travelled per employee 1,496 3,370 3,261 km | sustainability report 2020 foreword strategy & governance promotion report green and social bonds eco-balance human resources corporate citizenship has environmental performance indicators paper total paper consumption 19,797 30,096 34,437 kg paper consumption per employee 12.9 20.3 237 kg recycled paper ratio 59.1 71.5 72.3 % waste total 120.2 139.8 125.8 t recycling ratio 62.6 73.4 69.7 % waste per employee 78 95 87 kg full-time equivalents for the calculation per employee 1,541 1,479 1,452 employees | sustainability report 2020 foreword strategy & governance sustainability ratings and assessments promotion report iss esg sustainalytics rating prime (c) positive (bb) credit ratings long-term rating short-term rating outlook n. p.',\n",
       "        'energy _saving\\nthe groupwide energy_efficiency\\nsales unit per consumed energy'],\n",
       "       ['sustainability balance environmental performance indicators greenhouse gas emissions total emissions 1,641 2,009 1,861 t co,e thereof direct emissions (scope 1 ) 357 521 423 t co.e thereof indirect emissions (scope 2) 609 501 459 t co,e thereof indirect emissions (scope 3) 675 987 979 t co.e emissions per employee 1.07 1.36 1.28 t co,e thereof offset 100 100 100 % building energy total electricity consumption 7,062,185 6,105,858 5,918,385 kwh thereof from green electricity 100 100 100 % electricity consumption per employee 4,584 4,128 4,075 kwh total heating energy 6,705,356 5,525,128 5,060,700 kwh heating energy per employee 4,353 3,735 3,484 kwh business travel total kilometres travelled 2,304,183 4,984,679 4,736,230 km kilometres travelled per employee 1,496 3,370 3,261 km | sustainability report 2020 foreword strategy & governance promotion report green and social bonds eco-balance human resources corporate citizenship has environmental performance indicators paper total paper consumption 19,797 30,096 34,437 kg paper consumption per employee 12.9 20.3 237 kg recycled paper ratio 59.1 71.5 72.3 % waste total 120.2 139.8 125.8 t recycling ratio 62.6 73.4 69.7 % waste per employee 78 95 87 kg full-time equivalents for the calculation per employee 1,541 1,479 1,452 employees | sustainability report 2020 foreword strategy & governance sustainability ratings and assessments promotion report iss esg sustainalytics rating prime (c) positive (bb) credit ratings long-term rating short-term rating outlook n. p.',\n",
       "        'the share of our efficient energy 037 daiwahousegroup sustainability report'],\n",
       "       ['sustainability balance environmental performance indicators greenhouse gas emissions total emissions 1,641 2,009 1,861 t co,e thereof direct emissions (scope 1 ) 357 521 423 t co.e thereof indirect emissions (scope 2) 609 501 459 t co,e thereof indirect emissions (scope 3) 675 987 979 t co.e emissions per employee 1.07 1.36 1.28 t co,e thereof offset 100 100 100 % building energy total electricity consumption 7,062,185 6,105,858 5,918,385 kwh thereof from green electricity 100 100 100 % electricity consumption per employee 4,584 4,128 4,075 kwh total heating energy 6,705,356 5,525,128 5,060,700 kwh heating energy per employee 4,353 3,735 3,484 kwh business travel total kilometres travelled 2,304,183 4,984,679 4,736,230 km kilometres travelled per employee 1,496 3,370 3,261 km | sustainability report 2020 foreword strategy & governance promotion report green and social bonds eco-balance human resources corporate citizenship has environmental performance indicators paper total paper consumption 19,797 30,096 34,437 kg paper consumption per employee 12.9 20.3 237 kg recycled paper ratio 59.1 71.5 72.3 % waste total 120.2 139.8 125.8 t recycling ratio 62.6 73.4 69.7 % waste per employee 78 95 87 kg full-time equivalents for the calculation per employee 1,541 1,479 1,452 employees | sustainability report 2020 foreword strategy & governance sustainability ratings and assessments promotion report iss esg sustainalytics rating prime (c) positive (bb) credit ratings long-term rating short-term rating outlook n. p.',\n",
       "        'main approach greenhouse _gas_emissions reduction at the procurement stage we have determined\\n98.7 % of our greenhouse _gas_emissions\\nas scope_3_emissions'],\n",
       "       ['sustainability balance environmental performance indicators greenhouse gas emissions total emissions 1,641 2,009 1,861 t co,e thereof direct emissions (scope 1 ) 357 521 423 t co.e thereof indirect emissions (scope 2) 609 501 459 t co,e thereof indirect emissions (scope 3) 675 987 979 t co.e emissions per employee 1.07 1.36 1.28 t co,e thereof offset 100 100 100 % building energy total electricity consumption 7,062,185 6,105,858 5,918,385 kwh thereof from green electricity 100 100 100 % electricity consumption per employee 4,584 4,128 4,075 kwh total heating energy 6,705,356 5,525,128 5,060,700 kwh heating energy per employee 4,353 3,735 3,484 kwh business travel total kilometres travelled 2,304,183 4,984,679 4,736,230 km kilometres travelled per employee 1,496 3,370 3,261 km | sustainability report 2020 foreword strategy & governance promotion report green and social bonds eco-balance human resources corporate citizenship has environmental performance indicators paper total paper consumption 19,797 30,096 34,437 kg paper consumption per employee 12.9 20.3 237 kg recycled paper ratio 59.1 71.5 72.3 % waste total 120.2 139.8 125.8 t recycling ratio 62.6 73.4 69.7 % waste per employee 78 95 87 kg full-time equivalents for the calculation per employee 1,541 1,479 1,452 employees | sustainability report 2020 foreword strategy & governance sustainability ratings and assessments promotion report iss esg sustainalytics rating prime (c) positive (bb) credit ratings long-term rating short-term rating outlook n. p.',\n",
       "        'energy_efficiency\\nat our manufacturing sites'],\n",
       "       ['sustainability balance environmental performance indicators greenhouse gas emissions total emissions 1,641 2,009 1,861 t co,e thereof direct emissions (scope 1 ) 357 521 423 t co.e thereof indirect emissions (scope 2) 609 501 459 t co,e thereof indirect emissions (scope 3) 675 987 979 t co.e emissions per employee 1.07 1.36 1.28 t co,e thereof offset 100 100 100 % building energy total electricity consumption 7,062,185 6,105,858 5,918,385 kwh thereof from green electricity 100 100 100 % electricity consumption per employee 4,584 4,128 4,075 kwh total heating energy 6,705,356 5,525,128 5,060,700 kwh heating energy per employee 4,353 3,735 3,484 kwh business travel total kilometres travelled 2,304,183 4,984,679 4,736,230 km kilometres travelled per employee 1,496 3,370 3,261 km | sustainability report 2020 foreword strategy & governance promotion report green and social bonds eco-balance human resources corporate citizenship has environmental performance indicators paper total paper consumption 19,797 30,096 34,437 kg paper consumption per employee 12.9 20.3 237 kg recycled paper ratio 59.1 71.5 72.3 % waste total 120.2 139.8 125.8 t recycling ratio 62.6 73.4 69.7 % waste per employee 78 95 87 kg full-time equivalents for the calculation per employee 1,541 1,479 1,452 employees | sustainability report 2020 foreword strategy & governance sustainability ratings and assessments promotion report iss esg sustainalytics rating prime (c) positive (bb) credit ratings long-term rating short-term rating outlook n. p.',\n",
       "        'its energy_efficiency per product\\nthe energy management program has contributed annually\\nin reduced energy costs'],\n",
       "       ['sustainability balance environmental performance indicators greenhouse gas emissions total emissions 1,641 2,009 1,861 t co,e thereof direct emissions (scope 1 ) 357 521 423 t co.e thereof indirect emissions (scope 2) 609 501 459 t co,e thereof indirect emissions (scope 3) 675 987 979 t co.e emissions per employee 1.07 1.36 1.28 t co,e thereof offset 100 100 100 % building energy total electricity consumption 7,062,185 6,105,858 5,918,385 kwh thereof from green electricity 100 100 100 % electricity consumption per employee 4,584 4,128 4,075 kwh total heating energy 6,705,356 5,525,128 5,060,700 kwh heating energy per employee 4,353 3,735 3,484 kwh business travel total kilometres travelled 2,304,183 4,984,679 4,736,230 km kilometres travelled per employee 1,496 3,370 3,261 km | sustainability report 2020 foreword strategy & governance promotion report green and social bonds eco-balance human resources corporate citizenship has environmental performance indicators paper total paper consumption 19,797 30,096 34,437 kg paper consumption per employee 12.9 20.3 237 kg recycled paper ratio 59.1 71.5 72.3 % waste total 120.2 139.8 125.8 t recycling ratio 62.6 73.4 69.7 % waste per employee 78 95 87 kg full-time equivalents for the calculation per employee 1,541 1,479 1,452 employees | sustainability report 2020 foreword strategy & governance sustainability ratings and assessments promotion report iss esg sustainalytics rating prime (c) positive (bb) credit ratings long-term rating short-term rating outlook n. p.',\n",
       "        'significant capital energy_efficiency projects'],\n",
       "       ['3) distinction between direct and indirect emissions: direct greenhouse gas emissions come from sources owned or controlled by',\n",
       "        'based emission targets\\nclimate'],\n",
       "       ['3) distinction between direct and indirect emissions: direct greenhouse gas emissions come from sources owned or controlled by',\n",
       "        '89 towards carbon neutrality\\nby and_emissions from products'],\n",
       "       ['3) distinction between direct and indirect emissions: direct greenhouse gas emissions come from sources owned or controlled by',\n",
       "        'by and_emissions from products'],\n",
       "       ['3) distinction between direct and indirect emissions: direct greenhouse gas emissions come from sources owned or controlled by',\n",
       "        'our scope_1\\nby the science based targets initiative including classification of our scope_1 _2 ghg_emissions target as consistent'],\n",
       "       ['indirect greenhouse gas emissions result from the business activity of sources are owned or controlled by third parties.',\n",
       "        'our scope_1\\n5 _emissions from the use of our sold products'],\n",
       "       ['indirect greenhouse gas emissions result from the business activity of sources are owned or controlled by third parties.',\n",
       "        'based emission targets\\nclimate'],\n",
       "       ['indirect greenhouse gas emissions result from the business activity of sources are owned or controlled by third parties.',\n",
       "        'by and_emissions from products'],\n",
       "       ['in accordance with the greenhouse gas protocol, emissions are divided into three categories depending on the degree of influence exerted by emission category (scope 1): all direct emissions.',\n",
       "        'based emission targets\\nclimate'],\n",
       "       ['in accordance with the greenhouse gas protocol, emissions are divided into three categories depending on the degree of influence exerted by emission category (scope 1): all direct emissions.',\n",
       "        'our scope_1\\nby the science based targets initiative including classification of our scope_1 _2 ghg_emissions target as consistent'],\n",
       "       ['emission category (scope 2): all indirect emissions produced, for instance, in the generation of electricity, steam or thermal energy sourced by from external sources.',\n",
       "        'our scope_1\\n5 _emissions from the use of our sold products'],\n",
       "       ['emission category (scope 2): all indirect emissions produced, for instance, in the generation of electricity, steam or thermal energy sourced by from external sources.',\n",
       "        'based emission targets\\nclimate'],\n",
       "       ['emission category (scope 2): all indirect emissions produced, for instance, in the generation of electricity, steam or thermal energy sourced by from external sources.',\n",
       "        'our scope_1\\nby the science based targets initiative including classification of our scope_1 _2 ghg_emissions target as consistent'],\n",
       "       ['emission category (scope 3): all other indirect emissions in the field of logistics, material consumption, supplies and disposal.',\n",
       "        'our scope_1\\n5 _emissions from the use of our sold products'],\n",
       "       ['emission category (scope 3): all other indirect emissions in the field of logistics, material consumption, supplies and disposal.',\n",
       "        'based emission targets\\nclimate'],\n",
       "       ['emission category (scope 3): all other indirect emissions in the field of logistics, material consumption, supplies and disposal.',\n",
       "        'by and_emissions from products'],\n",
       "       ['emission category (scope 3): all other indirect emissions in the field of logistics, material consumption, supplies and disposal.',\n",
       "        'our scope_1\\nby the science based targets initiative including classification of our scope_1 _2 ghg_emissions target as consistent'],\n",
       "       ['emission category (scope 3): all other indirect emissions in the field of logistics, material consumption, supplies and disposal.',\n",
       "        'emission intensity from places of business across the group\\nemission intensity from transportation\\nwater usage efficiency\\nat high water risk bases'],\n",
       "       ['this also includes the emissions produced by service providers or manufacturing companies and their upstream suppliers.',\n",
       "        'our scope_1\\n5 _emissions from the use of our sold products'],\n",
       "       ['this also includes the emissions produced by service providers or manufacturing companies and their upstream suppliers.',\n",
       "        'by and_emissions from products'],\n",
       "       ['this also includes the emissions produced by service providers or manufacturing companies and their upstream suppliers.',\n",
       "        'first-tier production supplier\\ntransportation related ghg year data is available'],\n",
       "       [') offsets its co, emissions by using certificates from global wind park projects.',\n",
       "        'our scope_1\\n5 _emissions from the use of our sold products'],\n",
       "       [') offsets its co, emissions by using certificates from global wind park projects.',\n",
       "        'based emission targets\\nclimate'],\n",
       "       [') offsets its co, emissions by using certificates from global wind park projects.',\n",
       "        '89 towards carbon neutrality\\nby and_emissions from products'],\n",
       "       [') offsets its co, emissions by using certificates from global wind park projects.',\n",
       "        'by and_emissions from products'],\n",
       "       [') offsets its co, emissions by using certificates from global wind park projects.',\n",
       "        'our scope_1\\nby the science based targets initiative including classification of our scope_1 _2 ghg_emissions target as consistent'],\n",
       "       ['printed matter, envelopes and marketing materials in percent of total paper consumption only office waste, excl.',\n",
       "        'the carbon _footprint of ink purchase\\nenergy_use\\nwater use\\nwith cartridge purchase through traditional 84 hp sustainable impact report footprint integrity retail channels'],\n",
       "       ['kitchen and other waste abbreviations: co,e: carbon dioxide equivalents; kg: kilogramme; km: kilometre; kwh: kilowatt hour; m: million; t: tonnes; n. p.: not public corporate citizenship 10 pramoa tinn r fromotion www green and social bonds eco-balance human resources corporate citizenship | = > 1 | sustainability report 2020 foreword | strategy & governance promotion report green and social bonds eco-balance human resources corporate citizenship promoting environmental, economic and social sustainability in north rhine-westphalia in accordance with the law under which it was founded as the promotional bank of north rhine-westphalia, accepts its corporate respon- sibility.',\n",
       "        'the for the better sustainability framework including the objective\\nour business circular\\nabout our climate targets']],\n",
       "      dtype=object)"
      ]
     },
     "execution_count": 29,
     "metadata": {},
     "output_type": "execute_result"
    }
   ],
   "source": [
    "df_temp[['sentence','kpi']].values"
   ]
  },
  {
   "cell_type": "code",
   "execution_count": 23,
   "id": "6199bead",
   "metadata": {},
   "outputs": [],
   "source": [
    "df_temp.to_excel('sentence-transformer-based-similarity score with KPIs.xlsx')"
   ]
  }
 ],
 "metadata": {
  "kernelspec": {
   "display_name": "Python 3",
   "language": "python",
   "name": "python3"
  },
  "language_info": {
   "codemirror_mode": {
    "name": "ipython",
    "version": 3
   },
   "file_extension": ".py",
   "mimetype": "text/x-python",
   "name": "python",
   "nbconvert_exporter": "python",
   "pygments_lexer": "ipython3",
   "version": "3.9.7"
  }
 },
 "nbformat": 4,
 "nbformat_minor": 5
}
