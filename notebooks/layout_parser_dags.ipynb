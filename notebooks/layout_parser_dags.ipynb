{
  "nbformat": 4,
  "nbformat_minor": 0,
  "metadata": {
    "colab": {
      "name": "layout_parser_dags.ipynb",
      "provenance": [],
      "collapsed_sections": []
    },
    "kernelspec": {
      "name": "python3",
      "display_name": "Python 3"
    },
    "language_info": {
      "name": "python"
    }
  },
  "cells": [
    {
      "cell_type": "code",
      "execution_count": null,
      "metadata": {
        "id": "NXYCraSTfLdR"
      },
      "outputs": [],
      "source": [
        "pip install layoutparser\n",
        "# install detectron2\n",
        "!pip install 'git+https://github.com/facebookresearch/detectron2.git@v0.4#egg=detectron2' \n",
        " # install OCR module\n",
        " !pip install layoutparser[ocr]  "
      ]
    },
    {
      "cell_type": "code",
      "source": [
        " import layoutparser as lp\n",
        " import matplotlib.pyplot as plt\n",
        " import matplotlib\n",
        " %matplotlib inline\n",
        " import cv2 "
      ],
      "metadata": {
        "id": "FKmCijoeg7W2"
      },
      "execution_count": 1,
      "outputs": []
    },
    {
      "cell_type": "code",
      "source": [
        "model = lp.Detectron2LayoutModel('lp://PubLayNet/mask_rcnn_X_101_32x8d_FPN_3x/config', \n",
        "                                  extra_config=[\"MODEL.ROI_HEADS.SCORE_THRESH_TEST\", 0.8],\n",
        "                                  label_map={0: \"Text\", 1: \"Title\", 2: \"List\", 3:\"Table\", 4:\"Figure\"})"
      ],
      "metadata": {
        "colab": {
          "base_uri": "https://localhost:8080/"
        },
        "id": "chBwrG73hEJF",
        "outputId": "ca982dae-3a23-4f87-d42e-edb3de980d3c"
      },
      "execution_count": 6,
      "outputs": [
        {
          "output_type": "stream",
          "name": "stderr",
          "text": [
            "config.yaml?dl=1: 8.19kB [00:01, 6.74kB/s]\n",
            "model_final.pth?dl=1: 856MB [00:14, 59.4MB/s]                           \n"
          ]
        }
      ]
    },
    {
      "cell_type": "code",
      "source": [
        "image = cv2.imread(\"Page_12.jpg\")\n",
        "image = image[..., ::-1] \n",
        "    # Convert the image from BGR (cv2 default loading style)\n",
        "    # to RGB"
      ],
      "metadata": {
        "id": "6fbuPwszhIG3"
      },
      "execution_count": 7,
      "outputs": []
    },
    {
      "cell_type": "code",
      "source": [
        "layout = model.detect(image)\n",
        "    # Detect the layout of the input image"
      ],
      "metadata": {
        "colab": {
          "base_uri": "https://localhost:8080/"
        },
        "id": "tCwci-Z6iBsP",
        "outputId": "8af59a92-e976-4b32-a28f-ab73e19dcfac"
      },
      "execution_count": 8,
      "outputs": [
        {
          "output_type": "stream",
          "name": "stderr",
          "text": [
            "/usr/local/lib/python3.7/dist-packages/detectron2/structures/image_list.py:101: UserWarning: __floordiv__ is deprecated, and its behavior will change in a future version of pytorch. It currently rounds toward 0 (like the 'trunc' function NOT 'floor'). This results in incorrect rounding for negative values. To keep the current behavior, use torch.div(a, b, rounding_mode='trunc'), or for actual floor division, use torch.div(a, b, rounding_mode='floor').\n",
            "  max_size = (max_size + (stride - 1)) // stride * stride\n"
          ]
        }
      ]
    },
    {
      "cell_type": "code",
      "source": [
        "lp.draw_box(image, layout, box_width=10)\n",
        "    # Show the detected layout of the input image"
      ],
      "metadata": {
        "id": "c9sfynLqiiJ7"
      },
      "execution_count": null,
      "outputs": []
    },
    {
      "cell_type": "code",
      "source": [
        "layout[1]"
      ],
      "metadata": {
        "colab": {
          "base_uri": "https://localhost:8080/"
        },
        "id": "zfu_snrwjQJb",
        "outputId": "6f08fd5b-a841-48fa-a2fb-cd67ab9b6a51"
      },
      "execution_count": 15,
      "outputs": [
        {
          "output_type": "execute_result",
          "data": {
            "text/plain": [
              "TextBlock(block=Rectangle(x_1=2798.92529296875, y_1=519.5648803710938, x_2=3476.47705078125, y_2=575.7400512695312), text=None, id=None, type=Title, parent=None, next=None, score=0.9951589703559875)"
            ]
          },
          "metadata": {},
          "execution_count": 15
        }
      ]
    },
    {
      "cell_type": "code",
      "source": [
        "text_blocks = lp.Layout([b for b in layout if b.type=='Text'])\n",
        "figure_blocks = lp.Layout([b for b in layout if b.type=='Figure'])"
      ],
      "metadata": {
        "id": "30dnauZ8jRoh"
      },
      "execution_count": 10,
      "outputs": []
    },
    {
      "cell_type": "code",
      "source": [
        "text_blocks = lp.Layout([b for b in text_blocks \\\n",
        "                   if not any(b.is_in(b_fig) for b_fig in figure_blocks)])"
      ],
      "metadata": {
        "id": "StmsZSBCj6vX"
      },
      "execution_count": 11,
      "outputs": []
    },
    {
      "cell_type": "code",
      "source": [
        "h, w = image.shape[:2]\n",
        "\n",
        "left_interval = lp.Interval(0, w/2*1.05, axis='x').put_on_canvas(image)\n",
        "\n",
        "left_blocks = text_blocks.filter_by(left_interval, center=True)\n",
        "left_blocks.sort(key = lambda b:b.coordinates[1], inplace=True)\n",
        "# The b.coordinates[1] corresponds to the y coordinate of the region\n",
        "# sort based on that can simulate the top-to-bottom reading order \n",
        "right_blocks = lp.Layout([b for b in text_blocks if b not in left_blocks])\n",
        "right_blocks.sort(key = lambda b:b.coordinates[1], inplace=True)\n",
        "\n",
        "# And finally combine the two lists and add the index\n",
        "text_blocks = lp.Layout([b.set(id = idx) for idx, b in enumerate(left_blocks + right_blocks)])"
      ],
      "metadata": {
        "id": "1Ls-y6OhkCh9"
      },
      "execution_count": 12,
      "outputs": []
    },
    {
      "cell_type": "code",
      "source": [
        "lp.draw_box(image, text_blocks,\n",
        "            box_width=14, \n",
        "            show_element_id=True)\n"
      ],
      "metadata": {
        "id": "HkCuyp7akJfn"
      },
      "execution_count": null,
      "outputs": []
    },
    {
      "cell_type": "code",
      "source": [
        "ocr_agent = lp.TesseractAgent(languages='eng') \n",
        "    # Initialize the tesseract ocr engine. You might need \n",
        "    # to install the OCR components in layoutparser:\n",
        "    # pip install layoutparser[ocr]"
      ],
      "metadata": {
        "id": "bQqpNdAxkMQF"
      },
      "execution_count": 14,
      "outputs": []
    },
    {
      "cell_type": "code",
      "source": [
        "!sudo apt install tesseract-ocr"
      ],
      "metadata": {
        "id": "tAU7g_RFkcqE"
      },
      "execution_count": null,
      "outputs": []
    },
    {
      "cell_type": "code",
      "source": [
        "for block in text_blocks:\n",
        "    segment_image = (block\n",
        "                       .pad(left=5, right=5, top=5, bottom=5)\n",
        "                       .crop_image(image))\n",
        "        # add padding in each image segment can help\n",
        "        # improve robustness \n",
        "        \n",
        "    text = ocr_agent.detect(segment_image)\n",
        "    block.set(text=text, inplace=True)"
      ],
      "metadata": {
        "id": "eqAj4sZ6kVOV"
      },
      "execution_count": 15,
      "outputs": []
    },
    {
      "cell_type": "code",
      "source": [
        "for txt in text_blocks.get_texts():\n",
        "    print(txt, end='\\n---\\n')"
      ],
      "metadata": {
        "colab": {
          "base_uri": "https://localhost:8080/"
        },
        "id": "jad3leGjuc_g",
        "outputId": "9277673b-5f2a-4824-d468-86d1fcb70cf7"
      },
      "execution_count": 16,
      "outputs": [
        {
          "output_type": "stream",
          "name": "stdout",
          "text": [
            "Partnerships and collaboration are crucial to achieving our\n",
            "sustainability ambitions. By pooling knowledge and expertise, from\n",
            "both within our industry and outside the sector, we continue to\n",
            "create solutions that add value for the client as well as address\n",
            "environmental and societal challenges. By participating in research\n",
            "or collaboration projects with other players in the maritime sector,\n",
            "we increase the likelihood of new sustainable technologies,\n",
            "concepts or approaches being approved by legislators or brought\n",
            "to scale, enabling us to offer these solutions to our clients.\n",
            "\n",
            "Entering into dialog with both our external and internal stakeholder\n",
            "enables us to acquire a clear understanding of their expectations\n",
            "and interests and allows us to establish and better understand\n",
            "material topics. While we have a wide range of stakeholders, we\n",
            "see our key stakeholder groups as being: employees; clients and\n",
            "their respective project communities; suppliers and subcontractors;\n",
            "NGOs and civil society organizations; investors and shareholders.\n",
            "For each group, our engagement varies on a case-by-case basis\n",
            "and includes formal and informal channels that are used to varying\n",
            "degrees of regularity. On page 93 we have listed the stakeholder\n",
            "groups and summarized the channels we use to engage in dialog\n",
            "with them, alongside key topics discussed in 2020.\n",
            "\n",
            "Boskalis plays a significant role in a number of industry networks\n",
            "and their associated sustainability committees; the key triggers for\n",
            "our participation are to share knowledge in the sector and to use\n",
            "this knowledge to inform policy and future legislation. By joining\n",
            "with other companies in our sector we are better able to build\n",
            "alignment on new topics and approaches.\n",
            "\f\n",
            "---\n",
            "within the EU Green Deal. For more details regarding thi:\n",
            "partnership and others, please refer to our website.\n",
            "\f\n",
            "---\n",
            "Boskalis aims to be a market leader in the provision of sustainable\n",
            "solutions for our clients. We focus on delivering innovative solutions\n",
            "that enable us, together with our clients, to improve environmental\n",
            "and social outcomes of our projects. This year we renewed our\n",
            "innovation strategy and established a more structured approach to\n",
            "sustainable innovation — innovation that helps us reach our\n",
            "sustainability ambitions. We established a stronger connection to\n",
            "the business units and defined innovation themes directly linked to\n",
            "our corporate strategy.\n",
            "\f\n",
            "---\n",
            "We recognize that innovation is just as much about the way we do\n",
            "things as about new technology. This new technology will be\n",
            "necessary to achieve our sustainable ambitions, but just as\n",
            "important are new ways of thinking and changed behavior. With\n",
            "the stronger connection to the business units enabled by the\n",
            "renewed strategy of our Research & Development department we\n",
            "are more likely to effect a fundamental change in our approach to\n",
            "sustainable business operations and the innovations that are\n",
            "needed to support that.\n",
            "\f\n",
            "---\n",
            "For the last five years, Boskalis has partnered with PortXL, a Dutch\n",
            "organization scouting and selecting innovative new companies that\n",
            "can serve the needs of the global maritime industry, bringing\n",
            "external innovation inside the company. For more details regarding\n",
            "PortXL and other sustainable innovations, please refer to our website.\n",
            "\f\n",
            "---\n",
            "Boskalis takes an active role in the EU Platform on Sustainable\n",
            "Finance that was established this year as one of the initiatives\n",
            "\f\n",
            "---\n",
            "value and coverage of the scan as well as create support for the\n",
            "proposed solutions. The Stakeholder Toolkit is a workshop held a\n",
            "the beginning of each project with the project team to explore th\n",
            "local circumstances and define the stakeholder landscape. After\n",
            "revealing who could potentially be affected by our operations,\n",
            "appropriate actions are determined.\n",
            "\f\n",
            "---\n",
            "In order to integrate sustainable practices into our business, we\n",
            "develop and improve processes to manage our material\n",
            "environmental and social impacts and opportunities; for instance,\n",
            "through our Way of Working (WoW) quality management system,\n",
            "launched company-wide in 2017. With operational excellence as\n",
            "its main objective, WoW integrates health and safety as well as\n",
            "environmental and social responsibility. In addition to a thorough\n",
            "consideration of stakeholder interests, it is crucial for optimizing ot\n",
            "tender and project processes. All key Boskalis business units are\n",
            "ISM, ISO 9001, ISO 14001 and ISO 45001 certified, a list of\n",
            "relevant certifications can be found on page 97.\n",
            "\f\n",
            "---\n",
            "In 2020 we also focused on increasing staff awareness of ou!\n",
            "WoW system including:\n",
            "\f\n",
            "---\n",
            "Available in seven languages and displayed in workplaces across\n",
            "the organization, a poster outlines the principles we uphold to reach\n",
            "our common goals using a clear and consistent visual language.\n",
            "\f\n",
            "---\n",
            "At the heart of WoW is an internal online platform, the Navigator,\n",
            "which directs employees step-by-step through all processes, from\n",
            "approaching a client to completing a project, identifying actions to\n",
            "be taken and providing access to supporting documents. The\n",
            "platform is accessible to all, and shares best practices across\n",
            "divisions and projects.\n",
            "\f\n",
            "---\n",
            "Io make WoW as transparent as possible for tender and project\n",
            "eams, a new roadmap complements the poster by providing a clea\n",
            "visualization of all the different tasks in each consecutive phase of\n",
            "he WoW approach.\n",
            "\f\n",
            "---\n",
            "This year, we integrated our Environmental and Social (E&S) Impac\n",
            "Scan and Stakeholder Toolkit into WoW.\n",
            "\f\n",
            "---\n",
            "The E&S Impact Scan identifies risks and opportunities associated\n",
            "with the potential impact of our operations on the environment and\n",
            "local communities. The scan supports the early recognition of\n",
            "opportunities and risks on environmental and social aspects\n",
            "associated with our intended designs and activities. By conducting\n",
            "the scan at an early stage we aim to effectively incorporate the\n",
            "findings into the project approach as well as improve allocation of\n",
            "resources from our in-house experts. By doing this together with\n",
            "strategic (local) stakeholders and partners, we increase the added\n",
            "\f\n",
            "---\n",
            "Launched in December 2020, a WoW e-learning explains the\n",
            "basics of the program as a first-time introduction for employees,\n",
            "suppliers, subcontractors and other external stakeholders.\n",
            "\f\n",
            "---\n"
          ]
        }
      ]
    }
  ]
}