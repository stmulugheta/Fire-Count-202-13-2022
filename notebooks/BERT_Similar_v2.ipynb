{
 "cells": [
  {
   "cell_type": "code",
   "execution_count": 1,
   "id": "5dc87756-8fe1-4265-8164-0b2037a23928",
   "metadata": {},
   "outputs": [],
   "source": [
    "import pandas as pd\n",
    "import numpy as np\n",
    "from sklearn.metrics.pairwise import cosine_similarity\n",
    "from simpletransformers.language_representation import RepresentationModel\n",
    "\n",
    "pd.set_option('display.max_rows', None)\n",
    "pd.set_option('max_colwidth', 100)"
   ]
  },
  {
   "cell_type": "code",
   "execution_count": 2,
   "id": "c86a2b46-de11-4127-8ce5-6f449f088cee",
   "metadata": {},
   "outputs": [],
   "source": [
    "class BertSim:\n",
    "    \n",
    "    def __init__(self, model_type = \"bert\", model_name = \"nbroad/ESG-BERT\"):\n",
    "        self.model = RepresentationModel(\n",
    "                        model_type = model_type,\n",
    "                        model_name = model_name,\n",
    "                        use_cuda = True\n",
    "                    )\n",
    "    \n",
    "    def get_model(self):\n",
    "        return self.model\n",
    "\n",
    "    def get_sentence_embeddings(self, sentences):\n",
    "        return self.model.encode_sentences(sentences, combine_strategy = \"mean\")\n",
    "\n",
    "    def get_similarity_matrix(self, sentences_1, sentences_2):\n",
    "        return cosine_similarity(\n",
    "            self.get_sentence_embeddings(sentences_1),\n",
    "            self.get_sentence_embeddings(sentences_2)\n",
    "        )"
   ]
  },
  {
   "cell_type": "markdown",
   "id": "31e8c187-ef9b-4b81-b3ca-b904c74a1df1",
   "metadata": {},
   "source": [
    "### Preparing Dataset"
   ]
  },
  {
   "cell_type": "code",
   "execution_count": 3,
   "id": "2c6207fb-9ebb-4845-97d6-8026c19ef44f",
   "metadata": {},
   "outputs": [],
   "source": [
    "data_df = pd.read_csv(\"fb62e200-0fa3-11ec-82a8-0242ac130003_topics.csv\")\n",
    "data_df = data_df[data_df['Topics'].notna()]"
   ]
  },
  {
   "cell_type": "code",
   "execution_count": 4,
   "id": "ea6f3dd0-62c7-45ea-b2f8-51c41e3b7e22",
   "metadata": {},
   "outputs": [],
   "source": [
    "kpi_df = pd.read_csv(\"GRI KPI list.csv\")\n",
    "kpi_df[\"Description of KPI\"] = kpi_df[\"Description of KPI\"].fillna(method = \"ffill\")\n",
    "kpi_df[\"Descriptive KPI\"] = kpi_df[\"Description of KPI\"] + \" \" + kpi_df[\"KPI\"]"
   ]
  },
  {
   "cell_type": "markdown",
   "id": "bd5b5909-7935-451f-b1ae-c90b8d6f9901",
   "metadata": {},
   "source": [
    "### Compare Sentences and KPI"
   ]
  },
  {
   "cell_type": "code",
   "execution_count": 5,
   "id": "696006bd-8d97-47c3-b6d2-59e011500e49",
   "metadata": {},
   "outputs": [
    {
     "name": "stderr",
     "output_type": "stream",
     "text": [
      "Some weights of the model checkpoint at nbroad/ESG-BERT were not used when initializing BertForTextRepresentation: ['classifier.bias', 'classifier.weight']\n",
      "- This IS expected if you are initializing BertForTextRepresentation from the checkpoint of a model trained on another task or with another architecture (e.g. initializing a BertForSequenceClassification model from a BertForPreTraining model).\n",
      "- This IS NOT expected if you are initializing BertForTextRepresentation from the checkpoint of a model that you expect to be exactly identical (initializing a BertForSequenceClassification model from a BertForSequenceClassification model).\n"
     ]
    }
   ],
   "source": [
    "bert_sim = BertSim(\"bert\", \"nbroad/ESG-BERT\")"
   ]
  },
  {
   "cell_type": "code",
   "execution_count": 6,
   "id": "5f64c85a-6fee-4871-9d0d-92f39a86b51a",
   "metadata": {},
   "outputs": [
    {
     "data": {
      "text/plain": [
       "(1320, 162)"
      ]
     },
     "execution_count": 6,
     "metadata": {},
     "output_type": "execute_result"
    }
   ],
   "source": [
    "sim_matrix = bert_sim.get_similarity_matrix(data_df[\"sentences\"], kpi_df[\"Descriptive KPI\"])\n",
    "sim_matrix.shape"
   ]
  },
  {
   "cell_type": "code",
   "execution_count": 7,
   "id": "9e62aa02-698f-4be2-a8b6-9c9ab6bf1717",
   "metadata": {},
   "outputs": [],
   "source": [
    "sim_data = [sim.argmax() for sim in sim_matrix]\n",
    "df = pd.DataFrame()\n",
    "df[\"sentences\"] = data_df[\"sentences\"]\n",
    "df[\"KPI\"] = list(kpi_df[\"KPI\"].iloc[sim_data])"
   ]
  },
  {
   "cell_type": "code",
   "execution_count": 8,
   "id": "a178717a-c23d-43cf-96ae-ea3956966b59",
   "metadata": {},
   "outputs": [
    {
     "data": {
      "text/html": [
       "<div>\n",
       "<style scoped>\n",
       "    .dataframe tbody tr th:only-of-type {\n",
       "        vertical-align: middle;\n",
       "    }\n",
       "\n",
       "    .dataframe tbody tr th {\n",
       "        vertical-align: top;\n",
       "    }\n",
       "\n",
       "    .dataframe thead th {\n",
       "        text-align: right;\n",
       "    }\n",
       "</style>\n",
       "<table border=\"1\" class=\"dataframe\">\n",
       "  <thead>\n",
       "    <tr style=\"text-align: right;\">\n",
       "      <th></th>\n",
       "      <th>sentences</th>\n",
       "      <th>KPI</th>\n",
       "    </tr>\n",
       "  </thead>\n",
       "  <tbody>\n",
       "    <tr>\n",
       "      <th>1</th>\n",
       "      <td>putting the growth of nations back on track will require a sustained effort over time, and also ...</td>\n",
       "      <td>total number of critical concerns communicated to highest governance body</td>\n",
       "    </tr>\n",
       "    <tr>\n",
       "      <th>2</th>\n",
       "      <td>during these months in which our attention has been focussed on peoples health, the challenges o...</td>\n",
       "      <td>total number of critical concerns communicated to highest governance body</td>\n",
       "    </tr>\n",
       "    <tr>\n",
       "      <th>7</th>\n",
       "      <td>this figure supposes more than 80 times the_emissions we needed to produce and purify more than ...</td>\n",
       "      <td>particulate matter</td>\n",
       "    </tr>\n",
       "    <tr>\n",
       "      <th>8</th>\n",
       "      <td>in 2020, more than eight out of every ten euros invested by acciona businesses financed projects...</td>\n",
       "      <td>co2 equivalent of biogenic co2 emissions</td>\n",
       "    </tr>\n",
       "    <tr>\n",
       "      <th>10</th>\n",
       "      <td>technologies integrated in acciona projects that have allowed us to increase our positive impact...</td>\n",
       "      <td>total cooling energy sold</td>\n",
       "    </tr>\n",
       "  </tbody>\n",
       "</table>\n",
       "</div>"
      ],
      "text/plain": [
       "                                                                                              sentences  \\\n",
       "1   putting the growth of nations back on track will require a sustained effort over time, and also ...   \n",
       "2   during these months in which our attention has been focussed on peoples health, the challenges o...   \n",
       "7   this figure supposes more than 80 times the_emissions we needed to produce and purify more than ...   \n",
       "8   in 2020, more than eight out of every ten euros invested by acciona businesses financed projects...   \n",
       "10  technologies integrated in acciona projects that have allowed us to increase our positive impact...   \n",
       "\n",
       "                                                                          KPI  \n",
       "1   total number of critical concerns communicated to highest governance body  \n",
       "2   total number of critical concerns communicated to highest governance body  \n",
       "7                                                          particulate matter  \n",
       "8                                    co2 equivalent of biogenic co2 emissions  \n",
       "10                                                  total cooling energy sold  "
      ]
     },
     "execution_count": 8,
     "metadata": {},
     "output_type": "execute_result"
    }
   ],
   "source": [
    "df.head()"
   ]
  },
  {
   "cell_type": "code",
   "execution_count": null,
   "id": "ae1d9885-14aa-4ce8-804d-b62a7f69b304",
   "metadata": {},
   "outputs": [],
   "source": []
  }
 ],
 "metadata": {
  "kernelspec": {
   "display_name": "Python 3 (ipykernel)",
   "language": "python",
   "name": "python3"
  },
  "language_info": {
   "codemirror_mode": {
    "name": "ipython",
    "version": 3
   },
   "file_extension": ".py",
   "mimetype": "text/x-python",
   "name": "python",
   "nbconvert_exporter": "python",
   "pygments_lexer": "ipython3",
   "version": "3.7.12"
  }
 },
 "nbformat": 4,
 "nbformat_minor": 5
}
