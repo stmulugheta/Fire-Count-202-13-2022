{
 "cells": [
  {
   "cell_type": "code",
   "execution_count": 1,
   "id": "5dc87756-8fe1-4265-8164-0b2037a23928",
   "metadata": {},
   "outputs": [],
   "source": [
    "import pandas as pd\n",
    "import numpy as np\n",
    "from sklearn.metrics.pairwise import cosine_similarity\n",
    "from simpletransformers.language_representation import RepresentationModel\n",
    "\n",
    "pd.set_option('display.max_rows', None)\n",
    "pd.set_option('max_colwidth', 100)"
   ]
  },
  {
   "cell_type": "code",
   "execution_count": 2,
   "id": "c86a2b46-de11-4127-8ce5-6f449f088cee",
   "metadata": {},
   "outputs": [],
   "source": [
    "class BertSim:\n",
    "    \n",
    "    def __init__(self, model_type = \"bert\", model_name = \"nbroad/ESG-BERT\"):\n",
    "        self.model = RepresentationModel(\n",
    "                        model_type = model_type,\n",
    "                        model_name = model_name,\n",
    "                        use_cuda = True\n",
    "                    )\n",
    "    \n",
    "    def get_model(self):\n",
    "        return self.model\n",
    "\n",
    "    def get_sentence_embeddings(self, sentences):\n",
    "        return self.model.encode_sentences(sentences, combine_strategy = \"mean\")\n",
    "\n",
    "    def get_similarity_matrix(self, sentences_1, sentences_2):\n",
    "        return cosine_similarity(\n",
    "            self.get_sentence_embeddings(sentences_1),\n",
    "            self.get_sentence_embeddings(sentences_2)\n",
    "        )\n",
    "        "
   ]
  },
  {
   "cell_type": "markdown",
   "id": "31e8c187-ef9b-4b81-b3ca-b904c74a1df1",
   "metadata": {},
   "source": [
    "### Preparing Dataset"
   ]
  },
  {
   "cell_type": "code",
   "execution_count": 3,
   "id": "2c6207fb-9ebb-4845-97d6-8026c19ef44f",
   "metadata": {},
   "outputs": [],
   "source": [
    "data_df = pd.read_csv(\"../Data/fb62e200-0fa3-11ec-82a8-0242ac130003_topics.csv\")\n",
    "data_df = data_df[data_df['Topics'].notna()]"
   ]
  },
  {
   "cell_type": "code",
   "execution_count": 4,
   "id": "ea6f3dd0-62c7-45ea-b2f8-51c41e3b7e22",
   "metadata": {},
   "outputs": [],
   "source": [
    "kpi_df = pd.read_csv(\"../Data/GRI KPI list.csv\")\n",
    "kpi_df[\"Description of KPI\"] = kpi_df[\"Description of KPI\"].fillna(method = \"ffill\")\n",
    "kpi_df[\"Descriptive KPI\"] = kpi_df[\"Description of KPI\"] + \" \" + kpi_df[\"KPI\"]"
   ]
  },
  {
   "cell_type": "markdown",
   "id": "bd5b5909-7935-451f-b1ae-c90b8d6f9901",
   "metadata": {},
   "source": [
    "### Compare Sentences and KPI"
   ]
  },
  {
   "cell_type": "code",
   "execution_count": 5,
   "id": "d281b636-2c9c-4256-b5c3-f4142e3b32a8",
   "metadata": {},
   "outputs": [],
   "source": [
    "def get_sentences_kpi(model_class):\n",
    "    sim_matrix = model_class.get_similarity_matrix(data_df[\"sentences\"], kpi_df[\"Descriptive KPI\"])\n",
    "    sim_index = [sim.argmax() for sim in sim_matrix]\n",
    "    sim_score = [sim.max() for sim in sim_matrix]\n",
    "    df = pd.DataFrame()\n",
    "    df[\"sentences\"] = list(data_df[\"sentences\"])\n",
    "    df[\"KPI\"] = list(kpi_df[\"KPI\"].iloc[sim_index])\n",
    "    df[\"score\"] = list(sim_score)\n",
    "    return df"
   ]
  },
  {
   "cell_type": "code",
   "execution_count": 6,
   "id": "2f54ada8-eda4-4c5f-997f-c7dc2ee2c454",
   "metadata": {},
   "outputs": [
    {
     "name": "stderr",
     "output_type": "stream",
     "text": [
      "Some weights of the model checkpoint at nbroad/ESG-BERT were not used when initializing BertForTextRepresentation: ['classifier.weight', 'classifier.bias']\n",
      "- This IS expected if you are initializing BertForTextRepresentation from the checkpoint of a model trained on another task or with another architecture (e.g. initializing a BertForSequenceClassification model from a BertForPreTraining model).\n",
      "- This IS NOT expected if you are initializing BertForTextRepresentation from the checkpoint of a model that you expect to be exactly identical (initializing a BertForSequenceClassification model from a BertForSequenceClassification model).\n"
     ]
    }
   ],
   "source": [
    "esg_bert_sim = BertSim(\"bert\", \"nbroad/ESG-BERT\")"
   ]
  },
  {
   "cell_type": "code",
   "execution_count": 7,
   "id": "31a8b2de-96aa-41b7-bbfc-0e07edf5cbb2",
   "metadata": {},
   "outputs": [
    {
     "name": "stderr",
     "output_type": "stream",
     "text": [
      "Some weights of the model checkpoint at bert-base-uncased were not used when initializing BertForTextRepresentation: ['cls.predictions.transform.dense.weight', 'cls.predictions.transform.LayerNorm.weight', 'cls.seq_relationship.weight', 'cls.predictions.transform.dense.bias', 'cls.seq_relationship.bias', 'cls.predictions.transform.LayerNorm.bias', 'cls.predictions.decoder.weight', 'cls.predictions.bias']\n",
      "- This IS expected if you are initializing BertForTextRepresentation from the checkpoint of a model trained on another task or with another architecture (e.g. initializing a BertForSequenceClassification model from a BertForPreTraining model).\n",
      "- This IS NOT expected if you are initializing BertForTextRepresentation from the checkpoint of a model that you expect to be exactly identical (initializing a BertForSequenceClassification model from a BertForSequenceClassification model).\n"
     ]
    }
   ],
   "source": [
    "bert_uncased_sim = BertSim(\"bert\", \"bert-base-uncased\")"
   ]
  },
  {
   "cell_type": "code",
   "execution_count": 8,
   "id": "2881eeeb-a46b-4446-a897-af4583413801",
   "metadata": {},
   "outputs": [
    {
     "data": {
      "text/html": [
       "<div>\n",
       "<style scoped>\n",
       "    .dataframe tbody tr th:only-of-type {\n",
       "        vertical-align: middle;\n",
       "    }\n",
       "\n",
       "    .dataframe tbody tr th {\n",
       "        vertical-align: top;\n",
       "    }\n",
       "\n",
       "    .dataframe thead th {\n",
       "        text-align: right;\n",
       "    }\n",
       "</style>\n",
       "<table border=\"1\" class=\"dataframe\">\n",
       "  <thead>\n",
       "    <tr style=\"text-align: right;\">\n",
       "      <th></th>\n",
       "      <th>sentences</th>\n",
       "      <th>KPI</th>\n",
       "      <th>score</th>\n",
       "    </tr>\n",
       "  </thead>\n",
       "  <tbody>\n",
       "    <tr>\n",
       "      <th>0</th>\n",
       "      <td>putting the growth of nations back on track will require a sustained effort over time, and also ...</td>\n",
       "      <td>total number of critical concerns communicated to highest governance body</td>\n",
       "      <td>0.400573</td>\n",
       "    </tr>\n",
       "    <tr>\n",
       "      <th>1</th>\n",
       "      <td>during these months in which our attention has been focussed on peoples health, the challenges o...</td>\n",
       "      <td>total number of critical concerns communicated to highest governance body</td>\n",
       "      <td>0.453412</td>\n",
       "    </tr>\n",
       "    <tr>\n",
       "      <th>2</th>\n",
       "      <td>this figure supposes more than 80 times the_emissions we needed to produce and purify more than ...</td>\n",
       "      <td>particulate matter</td>\n",
       "      <td>0.561987</td>\n",
       "    </tr>\n",
       "    <tr>\n",
       "      <th>3</th>\n",
       "      <td>in 2020, more than eight out of every ten euros invested by acciona businesses financed projects...</td>\n",
       "      <td>co2 equivalent of biogenic co2 emissions</td>\n",
       "      <td>0.874777</td>\n",
       "    </tr>\n",
       "    <tr>\n",
       "      <th>4</th>\n",
       "      <td>technologies integrated in acciona projects that have allowed us to increase our positive impact...</td>\n",
       "      <td>total cooling energy sold</td>\n",
       "      <td>0.566743</td>\n",
       "    </tr>\n",
       "  </tbody>\n",
       "</table>\n",
       "</div>"
      ],
      "text/plain": [
       "                                                                                             sentences  \\\n",
       "0  putting the growth of nations back on track will require a sustained effort over time, and also ...   \n",
       "1  during these months in which our attention has been focussed on peoples health, the challenges o...   \n",
       "2  this figure supposes more than 80 times the_emissions we needed to produce and purify more than ...   \n",
       "3  in 2020, more than eight out of every ten euros invested by acciona businesses financed projects...   \n",
       "4  technologies integrated in acciona projects that have allowed us to increase our positive impact...   \n",
       "\n",
       "                                                                         KPI  \\\n",
       "0  total number of critical concerns communicated to highest governance body   \n",
       "1  total number of critical concerns communicated to highest governance body   \n",
       "2                                                         particulate matter   \n",
       "3                                   co2 equivalent of biogenic co2 emissions   \n",
       "4                                                  total cooling energy sold   \n",
       "\n",
       "      score  \n",
       "0  0.400573  \n",
       "1  0.453412  \n",
       "2  0.561987  \n",
       "3  0.874777  \n",
       "4  0.566743  "
      ]
     },
     "execution_count": 8,
     "metadata": {},
     "output_type": "execute_result"
    }
   ],
   "source": [
    "esg_bert_df = get_sentences_kpi(esg_bert_sim)\n",
    "esg_bert_df.head()"
   ]
  },
  {
   "cell_type": "code",
   "execution_count": 9,
   "id": "879550f7-10ac-4d1a-b8b7-175e61377806",
   "metadata": {},
   "outputs": [
    {
     "data": {
      "text/html": [
       "<div>\n",
       "<style scoped>\n",
       "    .dataframe tbody tr th:only-of-type {\n",
       "        vertical-align: middle;\n",
       "    }\n",
       "\n",
       "    .dataframe tbody tr th {\n",
       "        vertical-align: top;\n",
       "    }\n",
       "\n",
       "    .dataframe thead th {\n",
       "        text-align: right;\n",
       "    }\n",
       "</style>\n",
       "<table border=\"1\" class=\"dataframe\">\n",
       "  <thead>\n",
       "    <tr style=\"text-align: right;\">\n",
       "      <th></th>\n",
       "      <th>sentences</th>\n",
       "      <th>KPI</th>\n",
       "      <th>score</th>\n",
       "    </tr>\n",
       "  </thead>\n",
       "  <tbody>\n",
       "    <tr>\n",
       "      <th>0</th>\n",
       "      <td>putting the growth of nations back on track will require a sustained effort over time, and also ...</td>\n",
       "      <td>minimum number of weeks' notice of operational changes to employees and representatives</td>\n",
       "      <td>0.753975</td>\n",
       "    </tr>\n",
       "    <tr>\n",
       "      <th>1</th>\n",
       "      <td>during these months in which our attention has been focussed on peoples health, the challenges o...</td>\n",
       "      <td>minimum number of weeks' notice of operational changes to employees and representatives</td>\n",
       "      <td>0.763086</td>\n",
       "    </tr>\n",
       "    <tr>\n",
       "      <th>2</th>\n",
       "      <td>this figure supposes more than 80 times the_emissions we needed to produce and purify more than ...</td>\n",
       "      <td>amount of energy consumption reduced</td>\n",
       "      <td>0.811423</td>\n",
       "    </tr>\n",
       "    <tr>\n",
       "      <th>3</th>\n",
       "      <td>in 2020, more than eight out of every ten euros invested by acciona businesses financed projects...</td>\n",
       "      <td>amount of energy consumption reduced</td>\n",
       "      <td>0.832019</td>\n",
       "    </tr>\n",
       "    <tr>\n",
       "      <th>4</th>\n",
       "      <td>technologies integrated in acciona projects that have allowed us to increase our positive impact...</td>\n",
       "      <td>amount of energy consumption reduced</td>\n",
       "      <td>0.769879</td>\n",
       "    </tr>\n",
       "  </tbody>\n",
       "</table>\n",
       "</div>"
      ],
      "text/plain": [
       "                                                                                             sentences  \\\n",
       "0  putting the growth of nations back on track will require a sustained effort over time, and also ...   \n",
       "1  during these months in which our attention has been focussed on peoples health, the challenges o...   \n",
       "2  this figure supposes more than 80 times the_emissions we needed to produce and purify more than ...   \n",
       "3  in 2020, more than eight out of every ten euros invested by acciona businesses financed projects...   \n",
       "4  technologies integrated in acciona projects that have allowed us to increase our positive impact...   \n",
       "\n",
       "                                                                                       KPI  \\\n",
       "0  minimum number of weeks' notice of operational changes to employees and representatives   \n",
       "1  minimum number of weeks' notice of operational changes to employees and representatives   \n",
       "2                                                     amount of energy consumption reduced   \n",
       "3                                                     amount of energy consumption reduced   \n",
       "4                                                     amount of energy consumption reduced   \n",
       "\n",
       "      score  \n",
       "0  0.753975  \n",
       "1  0.763086  \n",
       "2  0.811423  \n",
       "3  0.832019  \n",
       "4  0.769879  "
      ]
     },
     "execution_count": 9,
     "metadata": {},
     "output_type": "execute_result"
    }
   ],
   "source": [
    "bert_uncased_df = get_sentences_kpi(bert_uncased_sim)\n",
    "bert_uncased_df.head()"
   ]
  },
  {
   "cell_type": "markdown",
   "id": "86025c49-14ee-4f81-b5cb-a5e204060bba",
   "metadata": {},
   "source": [
    "### Testing Performance"
   ]
  },
  {
   "cell_type": "code",
   "execution_count": 10,
   "id": "d6568506-a5cf-49e7-9bb3-78dfdfcb367e",
   "metadata": {},
   "outputs": [],
   "source": [
    "s1 = ['using these pillars of the global sustainability agenda to guide us, we regularly review sustainability issues and completed a materiality assessment!']\n",
    "s2 = ['to ensure that we build a sustainable business and meet stakeholder expectations.']"
   ]
  },
  {
   "cell_type": "code",
   "execution_count": 11,
   "id": "4c7aa414-af28-4bc3-a882-a0e4349599cd",
   "metadata": {},
   "outputs": [
    {
     "data": {
      "text/plain": [
       "array([[0.5810851]], dtype=float32)"
      ]
     },
     "execution_count": 11,
     "metadata": {},
     "output_type": "execute_result"
    }
   ],
   "source": [
    "esg_bert_sim.get_similarity_matrix(s1, s2)"
   ]
  },
  {
   "cell_type": "code",
   "execution_count": 12,
   "id": "a0e00a8b-a35c-4f29-bb8a-75674d16f408",
   "metadata": {},
   "outputs": [
    {
     "data": {
      "text/plain": [
       "array([[0.81749976]], dtype=float32)"
      ]
     },
     "execution_count": 12,
     "metadata": {},
     "output_type": "execute_result"
    }
   ],
   "source": [
    "bert_uncased_sim.get_similarity_matrix(s1, s2)"
   ]
  },
  {
   "cell_type": "code",
   "execution_count": null,
   "id": "28bebb72-c9f5-4d4a-9e4a-6153a1827731",
   "metadata": {},
   "outputs": [],
   "source": []
  }
 ],
 "metadata": {
  "kernelspec": {
   "display_name": "Python 3 (ipykernel)",
   "language": "python",
   "name": "python3"
  },
  "language_info": {
   "codemirror_mode": {
    "name": "ipython",
    "version": 3
   },
   "file_extension": ".py",
   "mimetype": "text/x-python",
   "name": "python",
   "nbconvert_exporter": "python",
   "pygments_lexer": "ipython3",
   "version": "3.7.12"
  }
 },
 "nbformat": 4,
 "nbformat_minor": 5
}
